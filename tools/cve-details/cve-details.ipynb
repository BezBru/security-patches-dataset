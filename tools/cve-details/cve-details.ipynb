{
 "cells": [
  {
   "cell_type": "code",
   "execution_count": 9,
   "metadata": {},
   "outputs": [],
   "source": [
    "import pandas as pd"
   ]
  },
  {
   "cell_type": "markdown",
   "metadata": {},
   "source": [
    "### 🤓  CVE-Details Data Exploration\n",
    "\n",
    "This notebook explores the entire CVE-Details dataset. It gives an overview of the data from our perspective/goals; you can change this notebook for our own purpose easily. Let's load the dataset!"
   ]
  },
  {
   "cell_type": "code",
   "execution_count": 65,
   "metadata": {},
   "outputs": [
    {
     "data": {
      "text/html": [
       "<div>\n",
       "<style scoped>\n",
       "    .dataframe tbody tr th:only-of-type {\n",
       "        vertical-align: middle;\n",
       "    }\n",
       "\n",
       "    .dataframe tbody tr th {\n",
       "        vertical-align: top;\n",
       "    }\n",
       "\n",
       "    .dataframe thead th {\n",
       "        text-align: right;\n",
       "    }\n",
       "</style>\n",
       "<table border=\"1\" class=\"dataframe\">\n",
       "  <thead>\n",
       "    <tr style=\"text-align: right;\">\n",
       "      <th></th>\n",
       "      <th>cve_id</th>\n",
       "      <th>cve_href</th>\n",
       "      <th>cwe_id</th>\n",
       "      <th>vuln_type</th>\n",
       "      <th>publish_date</th>\n",
       "      <th>update_date</th>\n",
       "      <th>score</th>\n",
       "      <th>acces_level</th>\n",
       "      <th>access</th>\n",
       "      <th>complexity</th>\n",
       "      <th>authentication</th>\n",
       "      <th>confidentiality</th>\n",
       "      <th>integrity</th>\n",
       "      <th>availability</th>\n",
       "      <th>summary</th>\n",
       "      <th>refs</th>\n",
       "    </tr>\n",
       "  </thead>\n",
       "  <tbody>\n",
       "    <tr>\n",
       "      <th>0</th>\n",
       "      <td>CVE-2001-0679</td>\n",
       "      <td>https://www.cvedetails.com/cve/CVE-2001-0679/</td>\n",
       "      <td>NaN</td>\n",
       "      <td>Exec Code Overflow</td>\n",
       "      <td>1999-11-08</td>\n",
       "      <td>2017-12-19</td>\n",
       "      <td>10.0</td>\n",
       "      <td>None</td>\n",
       "      <td>Remote</td>\n",
       "      <td>Low</td>\n",
       "      <td>Not required</td>\n",
       "      <td>Complete</td>\n",
       "      <td>Complete</td>\n",
       "      <td>Complete</td>\n",
       "      <td>A buffer overflow in InterScan VirusWall 3.23 ...</td>\n",
       "      <td>{'https://exchange.xforce.ibmcloud.com/vulnera...</td>\n",
       "    </tr>\n",
       "    <tr>\n",
       "      <th>1</th>\n",
       "      <td>CVE-2000-1206</td>\n",
       "      <td>https://www.cvedetails.com/cve/CVE-2000-1206/</td>\n",
       "      <td>NaN</td>\n",
       "      <td>NaN</td>\n",
       "      <td>1999-08-20</td>\n",
       "      <td>2021-06-06</td>\n",
       "      <td>5.0</td>\n",
       "      <td>None</td>\n",
       "      <td>Remote</td>\n",
       "      <td>Low</td>\n",
       "      <td>Not required</td>\n",
       "      <td>Partial</td>\n",
       "      <td>None</td>\n",
       "      <td>None</td>\n",
       "      <td>Vulnerability in Apache httpd before 1.3.11, w...</td>\n",
       "      <td>{'http://www.apacheweek.com/issues/00-01-07#st...</td>\n",
       "    </tr>\n",
       "    <tr>\n",
       "      <th>2</th>\n",
       "      <td>CVE-2000-0531</td>\n",
       "      <td>https://www.cvedetails.com/cve/CVE-2000-0531/</td>\n",
       "      <td>NaN</td>\n",
       "      <td>DoS</td>\n",
       "      <td>1999-11-23</td>\n",
       "      <td>2017-12-19</td>\n",
       "      <td>2.1</td>\n",
       "      <td>None</td>\n",
       "      <td>Local</td>\n",
       "      <td>Low</td>\n",
       "      <td>Not required</td>\n",
       "      <td>None</td>\n",
       "      <td>None</td>\n",
       "      <td>Partial</td>\n",
       "      <td>Linux gpm program allows local users to cause ...</td>\n",
       "      <td>{'https://exchange.xforce.ibmcloud.com/vulnera...</td>\n",
       "    </tr>\n",
       "    <tr>\n",
       "      <th>3</th>\n",
       "      <td>CVE-2000-0489</td>\n",
       "      <td>https://www.cvedetails.com/cve/CVE-2000-0489/</td>\n",
       "      <td>NaN</td>\n",
       "      <td>DoS</td>\n",
       "      <td>1999-09-05</td>\n",
       "      <td>2017-10-10</td>\n",
       "      <td>2.1</td>\n",
       "      <td>None</td>\n",
       "      <td>Local</td>\n",
       "      <td>Low</td>\n",
       "      <td>Not required</td>\n",
       "      <td>None</td>\n",
       "      <td>None</td>\n",
       "      <td>Partial</td>\n",
       "      <td>FreeBSD, NetBSD, and OpenBSD allow an attacker...</td>\n",
       "      <td>{'http://www.securityfocus.com/templates/archi...</td>\n",
       "    </tr>\n",
       "    <tr>\n",
       "      <th>4</th>\n",
       "      <td>CVE-2000-0481</td>\n",
       "      <td>https://www.cvedetails.com/cve/CVE-2000-0481/</td>\n",
       "      <td>NaN</td>\n",
       "      <td>DoS Overflow</td>\n",
       "      <td>1999-06-01</td>\n",
       "      <td>2017-10-10</td>\n",
       "      <td>5.0</td>\n",
       "      <td>None</td>\n",
       "      <td>Remote</td>\n",
       "      <td>Low</td>\n",
       "      <td>Not required</td>\n",
       "      <td>None</td>\n",
       "      <td>None</td>\n",
       "      <td>Partial</td>\n",
       "      <td>Buffer overflow in KDE Kmail allows a remote a...</td>\n",
       "      <td>{'http://www.securityfocus.com/bid/1380', 'htt...</td>\n",
       "    </tr>\n",
       "  </tbody>\n",
       "</table>\n",
       "</div>"
      ],
      "text/plain": [
       "          cve_id                                       cve_href cwe_id  \\\n",
       "0  CVE-2001-0679  https://www.cvedetails.com/cve/CVE-2001-0679/    NaN   \n",
       "1  CVE-2000-1206  https://www.cvedetails.com/cve/CVE-2000-1206/    NaN   \n",
       "2  CVE-2000-0531  https://www.cvedetails.com/cve/CVE-2000-0531/    NaN   \n",
       "3  CVE-2000-0489  https://www.cvedetails.com/cve/CVE-2000-0489/    NaN   \n",
       "4  CVE-2000-0481  https://www.cvedetails.com/cve/CVE-2000-0481/    NaN   \n",
       "\n",
       "            vuln_type publish_date update_date  score acces_level  access  \\\n",
       "0  Exec Code Overflow   1999-11-08  2017-12-19   10.0        None  Remote   \n",
       "1                 NaN   1999-08-20  2021-06-06    5.0        None  Remote   \n",
       "2                 DoS   1999-11-23  2017-12-19    2.1        None   Local   \n",
       "3                 DoS   1999-09-05  2017-10-10    2.1        None   Local   \n",
       "4        DoS Overflow   1999-06-01  2017-10-10    5.0        None  Remote   \n",
       "\n",
       "  complexity authentication confidentiality integrity availability  \\\n",
       "0        Low   Not required        Complete  Complete     Complete   \n",
       "1        Low   Not required         Partial      None         None   \n",
       "2        Low   Not required            None      None      Partial   \n",
       "3        Low   Not required            None      None      Partial   \n",
       "4        Low   Not required            None      None      Partial   \n",
       "\n",
       "                                             summary  \\\n",
       "0  A buffer overflow in InterScan VirusWall 3.23 ...   \n",
       "1  Vulnerability in Apache httpd before 1.3.11, w...   \n",
       "2  Linux gpm program allows local users to cause ...   \n",
       "3  FreeBSD, NetBSD, and OpenBSD allow an attacker...   \n",
       "4  Buffer overflow in KDE Kmail allows a remote a...   \n",
       "\n",
       "                                                refs  \n",
       "0  {'https://exchange.xforce.ibmcloud.com/vulnera...  \n",
       "1  {'http://www.apacheweek.com/issues/00-01-07#st...  \n",
       "2  {'https://exchange.xforce.ibmcloud.com/vulnera...  \n",
       "3  {'http://www.securityfocus.com/templates/archi...  \n",
       "4  {'http://www.securityfocus.com/bid/1380', 'htt...  "
      ]
     },
     "execution_count": 65,
     "metadata": {},
     "output_type": "execute_result"
    }
   ],
   "source": [
    "df = pd.read_csv('../../data/cve-details/raw-cve-details-data.csv')\n",
    "df.head()"
   ]
  },
  {
   "cell_type": "markdown",
   "metadata": {},
   "source": [
    "🧐 Alright, the table looks great! Some empty cells (expectable)... Let's look at the different columns:"
   ]
  },
  {
   "cell_type": "code",
   "execution_count": 66,
   "metadata": {},
   "outputs": [
    {
     "name": "stdout",
     "output_type": "stream",
     "text": [
      "<class 'pandas.core.frame.DataFrame'>\n",
      "RangeIndex: 160156 entries, 0 to 160155\n",
      "Data columns (total 16 columns):\n",
      " #   Column           Non-Null Count   Dtype  \n",
      "---  ------           --------------   -----  \n",
      " 0   cve_id           160156 non-null  object \n",
      " 1   cve_href         160156 non-null  object \n",
      " 2   cwe_id           117196 non-null  object \n",
      " 3   vuln_type        115841 non-null  object \n",
      " 4   publish_date     160156 non-null  object \n",
      " 5   update_date      160156 non-null  object \n",
      " 6   score            160156 non-null  float64\n",
      " 7   acces_level      160156 non-null  object \n",
      " 8   access           160156 non-null  object \n",
      " 9   complexity       160156 non-null  object \n",
      " 10  authentication   160156 non-null  object \n",
      " 11  confidentiality  160156 non-null  object \n",
      " 12  integrity        160156 non-null  object \n",
      " 13  availability     160156 non-null  object \n",
      " 14  summary          160156 non-null  object \n",
      " 15  refs             160156 non-null  object \n",
      "dtypes: float64(1), object(15)\n",
      "memory usage: 19.6+ MB\n"
     ]
    }
   ],
   "source": [
    "df.info()"
   ]
  },
  {
   "cell_type": "markdown",
   "metadata": {},
   "source": [
    "We don't need the metrics related with systems availability, confidentiality and integrity; access complexity; authentication; and, accessability. Therefore, we will not consider these columns in the further analysis:"
   ]
  },
  {
   "cell_type": "code",
   "execution_count": 67,
   "metadata": {},
   "outputs": [],
   "source": [
    "df = df.drop(columns=['acces_level', 'access', 'complexity', 'authentication', 'confidentiality', 'integrity', 'availability'])"
   ]
  },
  {
   "cell_type": "code",
   "execution_count": 68,
   "metadata": {},
   "outputs": [
    {
     "name": "stdout",
     "output_type": "stream",
     "text": [
      "<class 'pandas.core.frame.DataFrame'>\n",
      "RangeIndex: 160156 entries, 0 to 160155\n",
      "Data columns (total 9 columns):\n",
      " #   Column        Non-Null Count   Dtype  \n",
      "---  ------        --------------   -----  \n",
      " 0   cve_id        160156 non-null  object \n",
      " 1   cve_href      160156 non-null  object \n",
      " 2   cwe_id        117196 non-null  object \n",
      " 3   vuln_type     115841 non-null  object \n",
      " 4   publish_date  160156 non-null  object \n",
      " 5   update_date   160156 non-null  object \n",
      " 6   score         160156 non-null  float64\n",
      " 7   summary       160156 non-null  object \n",
      " 8   refs          160156 non-null  object \n",
      "dtypes: float64(1), object(8)\n",
      "memory usage: 11.0+ MB\n"
     ]
    }
   ],
   "source": [
    "df.info()"
   ]
  },
  {
   "cell_type": "code",
   "execution_count": 69,
   "metadata": {},
   "outputs": [
    {
     "data": {
      "text/html": [
       "<div>\n",
       "<style scoped>\n",
       "    .dataframe tbody tr th:only-of-type {\n",
       "        vertical-align: middle;\n",
       "    }\n",
       "\n",
       "    .dataframe tbody tr th {\n",
       "        vertical-align: top;\n",
       "    }\n",
       "\n",
       "    .dataframe thead th {\n",
       "        text-align: right;\n",
       "    }\n",
       "</style>\n",
       "<table border=\"1\" class=\"dataframe\">\n",
       "  <thead>\n",
       "    <tr style=\"text-align: right;\">\n",
       "      <th></th>\n",
       "      <th>cve_id</th>\n",
       "      <th>cve_href</th>\n",
       "      <th>cwe_id</th>\n",
       "      <th>vuln_type</th>\n",
       "      <th>publish_date</th>\n",
       "      <th>update_date</th>\n",
       "      <th>score</th>\n",
       "      <th>summary</th>\n",
       "      <th>refs</th>\n",
       "    </tr>\n",
       "  </thead>\n",
       "  <tbody>\n",
       "    <tr>\n",
       "      <th>0</th>\n",
       "      <td>CVE-2001-0679</td>\n",
       "      <td>https://www.cvedetails.com/cve/CVE-2001-0679/</td>\n",
       "      <td>NaN</td>\n",
       "      <td>Exec Code Overflow</td>\n",
       "      <td>1999-11-08</td>\n",
       "      <td>2017-12-19</td>\n",
       "      <td>10.0</td>\n",
       "      <td>A buffer overflow in InterScan VirusWall 3.23 ...</td>\n",
       "      <td>{'https://exchange.xforce.ibmcloud.com/vulnera...</td>\n",
       "    </tr>\n",
       "    <tr>\n",
       "      <th>1</th>\n",
       "      <td>CVE-2000-1206</td>\n",
       "      <td>https://www.cvedetails.com/cve/CVE-2000-1206/</td>\n",
       "      <td>NaN</td>\n",
       "      <td>NaN</td>\n",
       "      <td>1999-08-20</td>\n",
       "      <td>2021-06-06</td>\n",
       "      <td>5.0</td>\n",
       "      <td>Vulnerability in Apache httpd before 1.3.11, w...</td>\n",
       "      <td>{'http://www.apacheweek.com/issues/00-01-07#st...</td>\n",
       "    </tr>\n",
       "    <tr>\n",
       "      <th>2</th>\n",
       "      <td>CVE-2000-0531</td>\n",
       "      <td>https://www.cvedetails.com/cve/CVE-2000-0531/</td>\n",
       "      <td>NaN</td>\n",
       "      <td>DoS</td>\n",
       "      <td>1999-11-23</td>\n",
       "      <td>2017-12-19</td>\n",
       "      <td>2.1</td>\n",
       "      <td>Linux gpm program allows local users to cause ...</td>\n",
       "      <td>{'https://exchange.xforce.ibmcloud.com/vulnera...</td>\n",
       "    </tr>\n",
       "    <tr>\n",
       "      <th>3</th>\n",
       "      <td>CVE-2000-0489</td>\n",
       "      <td>https://www.cvedetails.com/cve/CVE-2000-0489/</td>\n",
       "      <td>NaN</td>\n",
       "      <td>DoS</td>\n",
       "      <td>1999-09-05</td>\n",
       "      <td>2017-10-10</td>\n",
       "      <td>2.1</td>\n",
       "      <td>FreeBSD, NetBSD, and OpenBSD allow an attacker...</td>\n",
       "      <td>{'http://www.securityfocus.com/templates/archi...</td>\n",
       "    </tr>\n",
       "    <tr>\n",
       "      <th>4</th>\n",
       "      <td>CVE-2000-0481</td>\n",
       "      <td>https://www.cvedetails.com/cve/CVE-2000-0481/</td>\n",
       "      <td>NaN</td>\n",
       "      <td>DoS Overflow</td>\n",
       "      <td>1999-06-01</td>\n",
       "      <td>2017-10-10</td>\n",
       "      <td>5.0</td>\n",
       "      <td>Buffer overflow in KDE Kmail allows a remote a...</td>\n",
       "      <td>{'http://www.securityfocus.com/bid/1380', 'htt...</td>\n",
       "    </tr>\n",
       "  </tbody>\n",
       "</table>\n",
       "</div>"
      ],
      "text/plain": [
       "          cve_id                                       cve_href cwe_id  \\\n",
       "0  CVE-2001-0679  https://www.cvedetails.com/cve/CVE-2001-0679/    NaN   \n",
       "1  CVE-2000-1206  https://www.cvedetails.com/cve/CVE-2000-1206/    NaN   \n",
       "2  CVE-2000-0531  https://www.cvedetails.com/cve/CVE-2000-0531/    NaN   \n",
       "3  CVE-2000-0489  https://www.cvedetails.com/cve/CVE-2000-0489/    NaN   \n",
       "4  CVE-2000-0481  https://www.cvedetails.com/cve/CVE-2000-0481/    NaN   \n",
       "\n",
       "            vuln_type publish_date update_date  score  \\\n",
       "0  Exec Code Overflow   1999-11-08  2017-12-19   10.0   \n",
       "1                 NaN   1999-08-20  2021-06-06    5.0   \n",
       "2                 DoS   1999-11-23  2017-12-19    2.1   \n",
       "3                 DoS   1999-09-05  2017-10-10    2.1   \n",
       "4        DoS Overflow   1999-06-01  2017-10-10    5.0   \n",
       "\n",
       "                                             summary  \\\n",
       "0  A buffer overflow in InterScan VirusWall 3.23 ...   \n",
       "1  Vulnerability in Apache httpd before 1.3.11, w...   \n",
       "2  Linux gpm program allows local users to cause ...   \n",
       "3  FreeBSD, NetBSD, and OpenBSD allow an attacker...   \n",
       "4  Buffer overflow in KDE Kmail allows a remote a...   \n",
       "\n",
       "                                                refs  \n",
       "0  {'https://exchange.xforce.ibmcloud.com/vulnera...  \n",
       "1  {'http://www.apacheweek.com/issues/00-01-07#st...  \n",
       "2  {'https://exchange.xforce.ibmcloud.com/vulnera...  \n",
       "3  {'http://www.securityfocus.com/templates/archi...  \n",
       "4  {'http://www.securityfocus.com/bid/1380', 'htt...  "
      ]
     },
     "execution_count": 69,
     "metadata": {},
     "output_type": "execute_result"
    }
   ],
   "source": [
    "df.head()"
   ]
  },
  {
   "cell_type": "markdown",
   "metadata": {},
   "source": [
    "OK, looks better; less columns and noise. First, let's check how many entries do not have a CWE assigned (i.e., how many vulnerabilities are included in a weakness group)?"
   ]
  },
  {
   "cell_type": "code",
   "execution_count": 70,
   "metadata": {},
   "outputs": [
    {
     "data": {
      "text/plain": [
       "117196"
      ]
     },
     "execution_count": 70,
     "metadata": {},
     "output_type": "execute_result"
    }
   ],
   "source": [
    "count_cwes = df[df['cwe_id'].notnull()].shape[0]\n",
    "count_cwes"
   ]
  },
  {
   "cell_type": "code",
   "execution_count": 71,
   "metadata": {},
   "outputs": [
    {
     "data": {
      "text/plain": [
       "'73.2%'"
      ]
     },
     "execution_count": 71,
     "metadata": {},
     "output_type": "execute_result"
    }
   ],
   "source": [
    "f\"{(count_cwes / len(df)) * 100:.1f}%\""
   ]
  },
  {
   "cell_type": "markdown",
   "metadata": {},
   "source": [
    "🎉 117196 out of 160156 are classified with a CWE (73.2%); now, let's verify how many entries/CVEs do not have references:"
   ]
  },
  {
   "cell_type": "code",
   "execution_count": 72,
   "metadata": {},
   "outputs": [],
   "source": [
    "count_refs = df[~df['refs'].notnull()].shape[0]"
   ]
  },
  {
   "cell_type": "code",
   "execution_count": 73,
   "metadata": {},
   "outputs": [
    {
     "data": {
      "text/plain": [
       "'0.0%'"
      ]
     },
     "execution_count": 73,
     "metadata": {},
     "output_type": "execute_result"
    }
   ],
   "source": [
    "f\"{(count_refs / len(df)) * 100:.1f}%\""
   ]
  },
  {
   "cell_type": "markdown",
   "metadata": {},
   "source": [
    "👽 0% of the dataset is missing references; this means 100% of the CVEs include at least one reference. YEAY! OK, now, let's look at those references in more detail. CVEs references can have links to source code hosting websites (such as GitHub, Bitbucket, Gitlab, etc), bug trackers, reports, news, etc. Let's start by searching for commits:"
   ]
  },
  {
   "cell_type": "code",
   "execution_count": 104,
   "metadata": {},
   "outputs": [
    {
     "data": {
      "text/plain": [
       "'10117 references to commits were found.'"
      ]
     },
     "execution_count": 104,
     "metadata": {},
     "output_type": "execute_result"
    }
   ],
   "source": [
    "import re\n",
    "\n",
    "commit_refs = []\n",
    "for idx, row in df.iterrows():\n",
    "    refs = eval(row['refs'])\n",
    "    for ref in refs:\n",
    "        found = re.search(r'(/commit/|/commits/)', ref)\n",
    "        if found:\n",
    "            commit_refs.append(ref)\n",
    "f\"{len(commit_refs)} references to commits were found.\""
   ]
  },
  {
   "cell_type": "markdown",
   "metadata": {},
   "source": [
    "Ok, now, let's look into where these commits are lodged. We know at least three places: `github`, `bitbucket`, `gitlab` and `git`."
   ]
  },
  {
   "cell_type": "code",
   "execution_count": 105,
   "metadata": {},
   "outputs": [
    {
     "data": {
      "text/html": [
       "<div>\n",
       "<style scoped>\n",
       "    .dataframe tbody tr th:only-of-type {\n",
       "        vertical-align: middle;\n",
       "    }\n",
       "\n",
       "    .dataframe tbody tr th {\n",
       "        vertical-align: top;\n",
       "    }\n",
       "\n",
       "    .dataframe thead th {\n",
       "        text-align: right;\n",
       "    }\n",
       "</style>\n",
       "<table border=\"1\" class=\"dataframe\">\n",
       "  <thead>\n",
       "    <tr style=\"text-align: right;\">\n",
       "      <th></th>\n",
       "      <th>ref</th>\n",
       "      <th>host</th>\n",
       "    </tr>\n",
       "  </thead>\n",
       "  <tbody>\n",
       "    <tr>\n",
       "      <th>0</th>\n",
       "      <td>https://github.com/KDE/kde1-kdebase/commit/049...</td>\n",
       "      <td>github</td>\n",
       "    </tr>\n",
       "    <tr>\n",
       "      <th>1</th>\n",
       "      <td>http://lists.mysql.com/commits/7918</td>\n",
       "      <td>other</td>\n",
       "    </tr>\n",
       "    <tr>\n",
       "      <th>2</th>\n",
       "      <td>http://lists.mysql.com/commits/5927</td>\n",
       "      <td>other</td>\n",
       "    </tr>\n",
       "    <tr>\n",
       "      <th>3</th>\n",
       "      <td>https://cgit.freedesktop.org/gstreamer/gst-plu...</td>\n",
       "      <td>git</td>\n",
       "    </tr>\n",
       "    <tr>\n",
       "      <th>4</th>\n",
       "      <td>https://git.gnome.org/browse/gimp/commit/?id=3...</td>\n",
       "      <td>git</td>\n",
       "    </tr>\n",
       "    <tr>\n",
       "      <th>...</th>\n",
       "      <td>...</td>\n",
       "      <td>...</td>\n",
       "    </tr>\n",
       "    <tr>\n",
       "      <th>10112</th>\n",
       "      <td>https://github.com/tribe29/checkmk/commit/c00f...</td>\n",
       "      <td>github</td>\n",
       "    </tr>\n",
       "    <tr>\n",
       "      <th>10113</th>\n",
       "      <td>https://github.com/LLK/scratch-svg-renderer/co...</td>\n",
       "      <td>github</td>\n",
       "    </tr>\n",
       "    <tr>\n",
       "      <th>10114</th>\n",
       "      <td>https://github.com/gpac/gpac/commit/8e585e623b...</td>\n",
       "      <td>github</td>\n",
       "    </tr>\n",
       "    <tr>\n",
       "      <th>10115</th>\n",
       "      <td>https://github.com/NLnetLabs/ldns/commit/15d96...</td>\n",
       "      <td>github</td>\n",
       "    </tr>\n",
       "    <tr>\n",
       "      <th>10116</th>\n",
       "      <td>https://github.com/plutinosoft/Platinum/commit...</td>\n",
       "      <td>github</td>\n",
       "    </tr>\n",
       "  </tbody>\n",
       "</table>\n",
       "<p>10117 rows × 2 columns</p>\n",
       "</div>"
      ],
      "text/plain": [
       "                                                     ref    host\n",
       "0      https://github.com/KDE/kde1-kdebase/commit/049...  github\n",
       "1                    http://lists.mysql.com/commits/7918   other\n",
       "2                    http://lists.mysql.com/commits/5927   other\n",
       "3      https://cgit.freedesktop.org/gstreamer/gst-plu...     git\n",
       "4      https://git.gnome.org/browse/gimp/commit/?id=3...     git\n",
       "...                                                  ...     ...\n",
       "10112  https://github.com/tribe29/checkmk/commit/c00f...  github\n",
       "10113  https://github.com/LLK/scratch-svg-renderer/co...  github\n",
       "10114  https://github.com/gpac/gpac/commit/8e585e623b...  github\n",
       "10115  https://github.com/NLnetLabs/ldns/commit/15d96...  github\n",
       "10116  https://github.com/plutinosoft/Platinum/commit...  github\n",
       "\n",
       "[10117 rows x 2 columns]"
      ]
     },
     "execution_count": 105,
     "metadata": {},
     "output_type": "execute_result"
    }
   ],
   "source": [
    "def add_commit(df, ref, host):\n",
    "    return df.append({'ref': ref, 'host': host}, ignore_index=True)\n",
    "\n",
    "df_commits = pd.DataFrame()\n",
    "for commit in commit_refs:\n",
    "    if 'gitlab' in commit:\n",
    "        df_commits = add_commit(df_commits, commit, 'gitlab')\n",
    "    elif 'bitbucket' in commit:\n",
    "        df_commits = add_commit(df_commits, commit, 'bitbucket')\n",
    "    elif 'github' in commit:\n",
    "        df_commits = add_commit(df_commits, commit, 'github')\n",
    "    elif 'git' in commit:\n",
    "        df_commits = add_commit(df_commits, commit, 'git')\n",
    "    else:\n",
    "        df_commits = add_commit(df_commits, commit, 'other')\n",
    "df_commits        "
   ]
  },
  {
   "cell_type": "code",
   "execution_count": 107,
   "metadata": {},
   "outputs": [
    {
     "data": {
      "text/plain": [
       "github       7672\n",
       "git          1795\n",
       "other         458\n",
       "gitlab        161\n",
       "bitbucket      31\n",
       "Name: host, dtype: int64"
      ]
     },
     "execution_count": 107,
     "metadata": {},
     "output_type": "execute_result"
    }
   ],
   "source": [
    "df_commits['host'].value_counts()"
   ]
  },
  {
   "cell_type": "code",
   "execution_count": 116,
   "metadata": {},
   "outputs": [],
   "source": [
    "# find references to source code hosting websites\n",
    "for idx, row in df.iterrows():\n",
    "    refs, code_refs = eval(row['refs']), []\n",
    "    for ref in refs:\n",
    "        found = re.search(r'(github|bitbucket|gitlab|git).*(/commit/|/commits/)', ref)\n",
    "        if found:\n",
    "            code_refs.append(ref)\n",
    "    if len(code_refs) > 0:\n",
    "        df.at[idx, 'code_refs'] = set(code_refs)"
   ]
  },
  {
   "cell_type": "code",
   "execution_count": 117,
   "metadata": {},
   "outputs": [
    {
     "data": {
      "text/plain": [
       "'🎉 7825 entries have references to souce code hosting websites such as github, bitbucket and gitlab.'"
      ]
     },
     "execution_count": 117,
     "metadata": {},
     "output_type": "execute_result"
    }
   ],
   "source": [
    "f\"🎉 {df[df['code_refs'].notnull()].shape[0]} entries have references to souce code hosting websites such as github, bitbucket and gitlab.\""
   ]
  },
  {
   "cell_type": "markdown",
   "metadata": {},
   "source": [
    "OK, cool; several entries found. Let's now drop the rows with nan cells for code_refs:"
   ]
  },
  {
   "cell_type": "code",
   "execution_count": 118,
   "metadata": {},
   "outputs": [
    {
     "data": {
      "text/plain": [
       "(7825, 10)"
      ]
     },
     "execution_count": 118,
     "metadata": {},
     "output_type": "execute_result"
    }
   ],
   "source": [
    "df = df.dropna(subset=['code_refs'])\n",
    "df.shape"
   ]
  }
 ],
 "metadata": {
  "interpreter": {
   "hash": "7cd4e5003b4a667bac994e08bde4da7436e88c359bf18446902ecccdfc179412"
  },
  "kernelspec": {
   "display_name": "Python 3.10.2 64-bit ('datasets': conda)",
   "language": "python",
   "name": "python3"
  },
  "language_info": {
   "codemirror_mode": {
    "name": "ipython",
    "version": 3
   },
   "file_extension": ".py",
   "mimetype": "text/x-python",
   "name": "python",
   "nbconvert_exporter": "python",
   "pygments_lexer": "ipython3",
   "version": "3.10.2"
  },
  "orig_nbformat": 4
 },
 "nbformat": 4,
 "nbformat_minor": 2
}

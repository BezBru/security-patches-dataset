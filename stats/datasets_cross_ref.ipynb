{
 "cells": [
  {
   "cell_type": "markdown",
   "metadata": {},
   "source": [
    "# Datasets Cross Ref\n",
    "\n",
    "This notebook crosses 4 different datasets: Devign, NVD, CVE-Details and Big-Vul."
   ]
  },
  {
   "cell_type": "code",
   "execution_count": 1,
   "metadata": {},
   "outputs": [],
   "source": [
    "import pandas as pd"
   ]
  },
  {
   "cell_type": "code",
   "execution_count": 4,
   "metadata": {},
   "outputs": [
    {
     "data": {
      "text/plain": [
       "Index(['cve_id', 'cve_href', 'cwe_id', 'vuln_type', 'publish_date',\n",
       "       'update_date', 'score', 'acces_level', 'access', 'complexity',\n",
       "       'authentication', 'confidentiality', 'integrity', 'availability',\n",
       "       'summary', 'refs', 'code_refs', 'source'],\n",
       "      dtype='object')"
      ]
     },
     "execution_count": 4,
     "metadata": {},
     "output_type": "execute_result"
    }
   ],
   "source": [
    "# CVE Details\n",
    "df_cvedet = pd.read_csv('../github/cve_details_jan22.csv')\n",
    "df_cvedet.keys()"
   ]
  },
  {
   "cell_type": "code",
   "execution_count": 38,
   "metadata": {},
   "outputs": [],
   "source": [
    "cve_details = []\n",
    "for idx, row in df_cvedet.iterrows():\n",
    "    cve_details += [ref.split('/commit/')[-1] for ref in eval(row['code_refs'])]"
   ]
  },
  {
   "cell_type": "code",
   "execution_count": 39,
   "metadata": {},
   "outputs": [
    {
     "name": "stdout",
     "output_type": "stream",
     "text": [
      "4432\n"
     ]
    }
   ],
   "source": [
    "df_bigvul = pd.read_csv('../github/big_vul_msr20.csv')\n",
    "print(len(df_bigvul))"
   ]
  },
  {
   "cell_type": "code",
   "execution_count": 40,
   "metadata": {},
   "outputs": [],
   "source": [
    "df_ffmpeg = pd.read_csv('../data/devign/ffmpeg.csv')\n",
    "df_qemu = pd.read_csv('../data/devign/qemu.csv')\n",
    "df_devign = pd.concat([df_ffmpeg, df_qemu])\n",
    "df_devign = df_devign[df_devign['vulnerability'] == 1]\n"
   ]
  },
  {
   "cell_type": "code",
   "execution_count": 41,
   "metadata": {},
   "outputs": [
    {
     "data": {
      "image/png": "[encoded data removed]",
      "text/plain": [
       "<Figure size 432x288 with 1 Axes>"
      ]
     },
     "metadata": {},
     "output_type": "display_data"
    }
   ],
   "source": [
    "import pylab as plt\n",
    "from matplotlib_venn import venn3, venn3_circles\n",
    "\n",
    "big_vul = set(list(df_bigvul['commit_id']))\n",
    "devign = set(list(df_devign['sha_id']))\n",
    "cve_det = set(cve_details)\n",
    "\n",
    "venn3([big_vul, devign, cve_det], ('Big-Vul', 'Devign', 'CVE Details'))\n",
    "\n",
    "plt.show()"
   ]
  },
  {
   "cell_type": "code",
   "execution_count": null,
   "metadata": {},
   "outputs": [],
   "source": [
    "labels = venn.get_labels([range(10), range(5, 15), range(3, 8), range(8, 17)], fill=['number', 'logic'])\n",
    "fig, ax = venn.venn4(labels, names=['list 1', 'list 2', 'list 3', 'list 4'])\n",
    "fig.show()"
   ]
  }
 ],
 "metadata": {
  "kernelspec": {
   "display_name": "Python 3",
   "language": "python",
   "name": "python3"
  },
  "language_info": {
   "codemirror_mode": {
    "name": "ipython",
    "version": 3
   },
   "file_extension": ".py",
   "mimetype": "text/x-python",
   "name": "python",
   "nbconvert_exporter": "python",
   "pygments_lexer": "ipython3",
   "version": "3.10.2"
  }
 },
 "nbformat": 4,
 "nbformat_minor": 4
}

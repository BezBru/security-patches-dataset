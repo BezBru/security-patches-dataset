{
 "cells": [
  {
   "cell_type": "code",
   "execution_count": 1,
   "id": "fac5f4f1",
   "metadata": {},
   "outputs": [],
   "source": [
    "import pandas as pd\n",
    "import matplotlib.pyplot as plt\n",
    "import seaborn as sns\n",
    "import numpy as np"
   ]
  },
  {
   "cell_type": "markdown",
   "id": "5d01f531",
   "metadata": {},
   "source": [
    "#### National Vulnerability Database (NVD)\n"
   ]
  },
  {
   "cell_type": "code",
   "execution_count": 2,
   "id": "7c2c7281",
   "metadata": {},
   "outputs": [
    {
     "data": {
      "text/html": [
       "<div>\n",
       "<style scoped>\n",
       "    .dataframe tbody tr th:only-of-type {\n",
       "        vertical-align: middle;\n",
       "    }\n",
       "\n",
       "    .dataframe tbody tr th {\n",
       "        vertical-align: top;\n",
       "    }\n",
       "\n",
       "    .dataframe thead th {\n",
       "        text-align: right;\n",
       "    }\n",
       "</style>\n",
       "<table border=\"1\" class=\"dataframe\">\n",
       "  <thead>\n",
       "    <tr style=\"text-align: right;\">\n",
       "      <th></th>\n",
       "      <th>cve_id</th>\n",
       "      <th>year</th>\n",
       "      <th>cwes</th>\n",
       "      <th>description</th>\n",
       "      <th>severity</th>\n",
       "      <th>exploitability</th>\n",
       "      <th>impact</th>\n",
       "      <th>published_date</th>\n",
       "      <th>last_modified_date</th>\n",
       "      <th>refs</th>\n",
       "      <th>code_refs</th>\n",
       "    </tr>\n",
       "  </thead>\n",
       "  <tbody>\n",
       "    <tr>\n",
       "      <th>0</th>\n",
       "      <td>CVE-2021-20193</td>\n",
       "      <td>2021</td>\n",
       "      <td>{'CWE-125', 'CWE-401'}</td>\n",
       "      <td>A flaw was found in the src/list.c of tar 1.33...</td>\n",
       "      <td>MEDIUM</td>\n",
       "      <td>8.6</td>\n",
       "      <td>2.9</td>\n",
       "      <td>2021-03-26T17:15Z</td>\n",
       "      <td>2021-06-03T18:53Z</td>\n",
       "      <td>{'https://bugzilla.redhat.com/show_bug.cgi?id=...</td>\n",
       "      <td>{'https://git.savannah.gnu.org/cgit/tar.git/co...</td>\n",
       "    </tr>\n",
       "    <tr>\n",
       "      <th>1</th>\n",
       "      <td>CVE-2021-20230</td>\n",
       "      <td>2021</td>\n",
       "      <td>{'CWE-295'}</td>\n",
       "      <td>A flaw was found in stunnel before 5.57, where...</td>\n",
       "      <td>MEDIUM</td>\n",
       "      <td>10.0</td>\n",
       "      <td>2.9</td>\n",
       "      <td>2021-02-23T17:15Z</td>\n",
       "      <td>2021-05-26T10:15Z</td>\n",
       "      <td>{'https://github.com/mtrojnar/stunnel/commit/e...</td>\n",
       "      <td>{'https://github.com/mtrojnar/stunnel/commit/e...</td>\n",
       "    </tr>\n",
       "    <tr>\n",
       "      <th>2</th>\n",
       "      <td>CVE-2021-20261</td>\n",
       "      <td>2021</td>\n",
       "      <td>{'CWE-362'}</td>\n",
       "      <td>A race condition was found in the Linux kernel...</td>\n",
       "      <td>MEDIUM</td>\n",
       "      <td>3.4</td>\n",
       "      <td>6.4</td>\n",
       "      <td>2021-03-11T21:15Z</td>\n",
       "      <td>2021-03-19T13:08Z</td>\n",
       "      <td>{'https://git.kernel.org/pub/scm/linux/kernel/...</td>\n",
       "      <td>{'https://git.kernel.org/pub/scm/linux/kernel/...</td>\n",
       "    </tr>\n",
       "    <tr>\n",
       "      <th>3</th>\n",
       "      <td>CVE-2021-20265</td>\n",
       "      <td>2021</td>\n",
       "      <td>{'CWE-400'}</td>\n",
       "      <td>A flaw was found in the way memory resources w...</td>\n",
       "      <td>MEDIUM</td>\n",
       "      <td>3.9</td>\n",
       "      <td>6.9</td>\n",
       "      <td>2021-03-10T16:15Z</td>\n",
       "      <td>2021-12-08T19:47Z</td>\n",
       "      <td>{'https://bugzilla.redhat.com/show_bug.cgi?id=...</td>\n",
       "      <td>{'https://git.kernel.org/pub/scm/linux/kernel/...</td>\n",
       "    </tr>\n",
       "    <tr>\n",
       "      <th>4</th>\n",
       "      <td>CVE-2021-20271</td>\n",
       "      <td>2021</td>\n",
       "      <td>{'CWE-345'}</td>\n",
       "      <td>A flaw was found in RPM's signature check func...</td>\n",
       "      <td>MEDIUM</td>\n",
       "      <td>4.9</td>\n",
       "      <td>6.4</td>\n",
       "      <td>2021-03-26T17:15Z</td>\n",
       "      <td>2021-12-10T19:50Z</td>\n",
       "      <td>{'https://security.gentoo.org/glsa/202107-43',...</td>\n",
       "      <td>{'https://github.com/rpm-software-management/r...</td>\n",
       "    </tr>\n",
       "  </tbody>\n",
       "</table>\n",
       "</div>"
      ],
      "text/plain": [
       "           cve_id  year                    cwes  \\\n",
       "0  CVE-2021-20193  2021  {'CWE-125', 'CWE-401'}   \n",
       "1  CVE-2021-20230  2021             {'CWE-295'}   \n",
       "2  CVE-2021-20261  2021             {'CWE-362'}   \n",
       "3  CVE-2021-20265  2021             {'CWE-400'}   \n",
       "4  CVE-2021-20271  2021             {'CWE-345'}   \n",
       "\n",
       "                                         description severity  exploitability  \\\n",
       "0  A flaw was found in the src/list.c of tar 1.33...   MEDIUM             8.6   \n",
       "1  A flaw was found in stunnel before 5.57, where...   MEDIUM            10.0   \n",
       "2  A race condition was found in the Linux kernel...   MEDIUM             3.4   \n",
       "3  A flaw was found in the way memory resources w...   MEDIUM             3.9   \n",
       "4  A flaw was found in RPM's signature check func...   MEDIUM             4.9   \n",
       "\n",
       "   impact     published_date last_modified_date  \\\n",
       "0     2.9  2021-03-26T17:15Z  2021-06-03T18:53Z   \n",
       "1     2.9  2021-02-23T17:15Z  2021-05-26T10:15Z   \n",
       "2     6.4  2021-03-11T21:15Z  2021-03-19T13:08Z   \n",
       "3     6.9  2021-03-10T16:15Z  2021-12-08T19:47Z   \n",
       "4     6.4  2021-03-26T17:15Z  2021-12-10T19:50Z   \n",
       "\n",
       "                                                refs  \\\n",
       "0  {'https://bugzilla.redhat.com/show_bug.cgi?id=...   \n",
       "1  {'https://github.com/mtrojnar/stunnel/commit/e...   \n",
       "2  {'https://git.kernel.org/pub/scm/linux/kernel/...   \n",
       "3  {'https://bugzilla.redhat.com/show_bug.cgi?id=...   \n",
       "4  {'https://security.gentoo.org/glsa/202107-43',...   \n",
       "\n",
       "                                           code_refs  \n",
       "0  {'https://git.savannah.gnu.org/cgit/tar.git/co...  \n",
       "1  {'https://github.com/mtrojnar/stunnel/commit/e...  \n",
       "2  {'https://git.kernel.org/pub/scm/linux/kernel/...  \n",
       "3  {'https://git.kernel.org/pub/scm/linux/kernel/...  \n",
       "4  {'https://github.com/rpm-software-management/r...  "
      ]
     },
     "execution_count": 2,
     "metadata": {},
     "output_type": "execute_result"
    }
   ],
   "source": [
    "df = pd.read_csv('../data/nvd/all-nvd-patches.csv', escapechar=\"\\\\\")\n",
    "df.head()"
   ]
  },
  {
   "cell_type": "markdown",
   "id": "57766be7",
   "metadata": {},
   "source": [
    "#### Severity Distribution"
   ]
  },
  {
   "cell_type": "code",
   "execution_count": 4,
   "id": "7e89afe9",
   "metadata": {},
   "outputs": [
    {
     "data": {
      "image/png": "[encoded data removed]",
      "text/plain": [
       "<Figure size 432x288 with 1 Axes>"
      ]
     },
     "metadata": {},
     "output_type": "display_data"
    }
   ],
   "source": [
    "from palettable.colorbrewer.qualitative import Pastel1_7\n",
    "\n",
    "my_circle = plt.Circle((0, 0), 0.7, color='white')\n",
    "\n",
    "plt.pie(df['severity'].value_counts(), \n",
    "        colors=Pastel1_7.hex_colors, \n",
    "        labels=df['severity'].value_counts().keys(),\n",
    "        autopct='%1.1f%%', \n",
    "        pctdistance=0.85)\n",
    "\n",
    "p = plt.gcf()\n",
    "p.gca().add_artist(my_circle)\n",
    "\n",
    "plt.show()"
   ]
  },
  {
   "cell_type": "code",
   "execution_count": 6,
   "id": "b6bb4145",
   "metadata": {},
   "outputs": [
    {
     "data": {
      "text/plain": [
       "'8523 unique CVE entries'"
      ]
     },
     "execution_count": 6,
     "metadata": {},
     "output_type": "execute_result"
    }
   ],
   "source": [
    "f\"{len(df['cve_id'].unique())} unique CVE entries\""
   ]
  },
  {
   "cell_type": "code",
   "execution_count": 7,
   "id": "7bfb5f2e",
   "metadata": {},
   "outputs": [
    {
     "data": {
      "text/html": [
       "<div>\n",
       "<style scoped>\n",
       "    .dataframe tbody tr th:only-of-type {\n",
       "        vertical-align: middle;\n",
       "    }\n",
       "\n",
       "    .dataframe tbody tr th {\n",
       "        vertical-align: top;\n",
       "    }\n",
       "\n",
       "    .dataframe thead th {\n",
       "        text-align: right;\n",
       "    }\n",
       "</style>\n",
       "<table border=\"1\" class=\"dataframe\">\n",
       "  <thead>\n",
       "    <tr style=\"text-align: right;\">\n",
       "      <th></th>\n",
       "      <th>cve_id</th>\n",
       "      <th>year</th>\n",
       "      <th>cwes</th>\n",
       "      <th>description</th>\n",
       "      <th>severity</th>\n",
       "      <th>exploitability</th>\n",
       "      <th>impact</th>\n",
       "      <th>published_date</th>\n",
       "      <th>last_modified_date</th>\n",
       "      <th>refs</th>\n",
       "      <th>code_refs</th>\n",
       "      <th>commits</th>\n",
       "    </tr>\n",
       "  </thead>\n",
       "  <tbody>\n",
       "    <tr>\n",
       "      <th>0</th>\n",
       "      <td>CVE-2021-20230</td>\n",
       "      <td>2021</td>\n",
       "      <td>{'CWE-295'}</td>\n",
       "      <td>A flaw was found in stunnel before 5.57, where...</td>\n",
       "      <td>MEDIUM</td>\n",
       "      <td>10.0</td>\n",
       "      <td>2.9</td>\n",
       "      <td>2021-02-23T17:15Z</td>\n",
       "      <td>2021-05-26T10:15Z</td>\n",
       "      <td>{'https://github.com/mtrojnar/stunnel/commit/e...</td>\n",
       "      <td>{'https://github.com/mtrojnar/stunnel/commit/e...</td>\n",
       "      <td>{'https://github.com/mtrojnar/stunnel/commit/e...</td>\n",
       "    </tr>\n",
       "    <tr>\n",
       "      <th>1</th>\n",
       "      <td>CVE-2021-20271</td>\n",
       "      <td>2021</td>\n",
       "      <td>{'CWE-345'}</td>\n",
       "      <td>A flaw was found in RPM's signature check func...</td>\n",
       "      <td>MEDIUM</td>\n",
       "      <td>4.9</td>\n",
       "      <td>6.4</td>\n",
       "      <td>2021-03-26T17:15Z</td>\n",
       "      <td>2021-12-10T19:50Z</td>\n",
       "      <td>{'https://security.gentoo.org/glsa/202107-43',...</td>\n",
       "      <td>{'https://github.com/rpm-software-management/r...</td>\n",
       "      <td>{'https://github.com/rpm-software-management/r...</td>\n",
       "    </tr>\n",
       "    <tr>\n",
       "      <th>2</th>\n",
       "      <td>CVE-2021-21234</td>\n",
       "      <td>2021</td>\n",
       "      <td>{'CWE-22'}</td>\n",
       "      <td>spring-boot-actuator-logview in a library that...</td>\n",
       "      <td>MEDIUM</td>\n",
       "      <td>8.0</td>\n",
       "      <td>2.9</td>\n",
       "      <td>2021-01-05T18:15Z</td>\n",
       "      <td>2021-01-11T14:41Z</td>\n",
       "      <td>{'https://github.com/lukashinsch/spring-boot-a...</td>\n",
       "      <td>{'https://github.com/lukashinsch/spring-boot-a...</td>\n",
       "      <td>{'https://github.com/lukashinsch/spring-boot-a...</td>\n",
       "    </tr>\n",
       "    <tr>\n",
       "      <th>3</th>\n",
       "      <td>CVE-2021-21235</td>\n",
       "      <td>2021</td>\n",
       "      <td>{'CWE-400'}</td>\n",
       "      <td>kamadak-exif is an exif parsing library writte...</td>\n",
       "      <td>MEDIUM</td>\n",
       "      <td>8.6</td>\n",
       "      <td>2.9</td>\n",
       "      <td>2021-01-06T02:15Z</td>\n",
       "      <td>2021-01-08T19:23Z</td>\n",
       "      <td>{'https://crates.io/crates/kamadak-exif', 'htt...</td>\n",
       "      <td>{'https://github.com/kamadak/exif-rs/commit/f2...</td>\n",
       "      <td>{'https://github.com/kamadak/exif-rs/commit/f2...</td>\n",
       "    </tr>\n",
       "    <tr>\n",
       "      <th>4</th>\n",
       "      <td>CVE-2021-21236</td>\n",
       "      <td>2021</td>\n",
       "      <td>{'CWE-400'}</td>\n",
       "      <td>CairoSVG is a Python (pypi) package. CairoSVG ...</td>\n",
       "      <td>MEDIUM</td>\n",
       "      <td>8.6</td>\n",
       "      <td>2.9</td>\n",
       "      <td>2021-01-06T17:15Z</td>\n",
       "      <td>2021-01-13T15:43Z</td>\n",
       "      <td>{'https://pypi.org/project/CairoSVG/', 'https:...</td>\n",
       "      <td>{'https://github.com/Kozea/CairoSVG/commit/cfc...</td>\n",
       "      <td>{'https://github.com/Kozea/CairoSVG/commit/cfc...</td>\n",
       "    </tr>\n",
       "  </tbody>\n",
       "</table>\n",
       "</div>"
      ],
      "text/plain": [
       "           cve_id  year         cwes  \\\n",
       "0  CVE-2021-20230  2021  {'CWE-295'}   \n",
       "1  CVE-2021-20271  2021  {'CWE-345'}   \n",
       "2  CVE-2021-21234  2021   {'CWE-22'}   \n",
       "3  CVE-2021-21235  2021  {'CWE-400'}   \n",
       "4  CVE-2021-21236  2021  {'CWE-400'}   \n",
       "\n",
       "                                         description severity  exploitability  \\\n",
       "0  A flaw was found in stunnel before 5.57, where...   MEDIUM            10.0   \n",
       "1  A flaw was found in RPM's signature check func...   MEDIUM             4.9   \n",
       "2  spring-boot-actuator-logview in a library that...   MEDIUM             8.0   \n",
       "3  kamadak-exif is an exif parsing library writte...   MEDIUM             8.6   \n",
       "4  CairoSVG is a Python (pypi) package. CairoSVG ...   MEDIUM             8.6   \n",
       "\n",
       "   impact     published_date last_modified_date  \\\n",
       "0     2.9  2021-02-23T17:15Z  2021-05-26T10:15Z   \n",
       "1     6.4  2021-03-26T17:15Z  2021-12-10T19:50Z   \n",
       "2     2.9  2021-01-05T18:15Z  2021-01-11T14:41Z   \n",
       "3     2.9  2021-01-06T02:15Z  2021-01-08T19:23Z   \n",
       "4     2.9  2021-01-06T17:15Z  2021-01-13T15:43Z   \n",
       "\n",
       "                                                refs  \\\n",
       "0  {'https://github.com/mtrojnar/stunnel/commit/e...   \n",
       "1  {'https://security.gentoo.org/glsa/202107-43',...   \n",
       "2  {'https://github.com/lukashinsch/spring-boot-a...   \n",
       "3  {'https://crates.io/crates/kamadak-exif', 'htt...   \n",
       "4  {'https://pypi.org/project/CairoSVG/', 'https:...   \n",
       "\n",
       "                                           code_refs  \\\n",
       "0  {'https://github.com/mtrojnar/stunnel/commit/e...   \n",
       "1  {'https://github.com/rpm-software-management/r...   \n",
       "2  {'https://github.com/lukashinsch/spring-boot-a...   \n",
       "3  {'https://github.com/kamadak/exif-rs/commit/f2...   \n",
       "4  {'https://github.com/Kozea/CairoSVG/commit/cfc...   \n",
       "\n",
       "                                             commits  \n",
       "0  {'https://github.com/mtrojnar/stunnel/commit/e...  \n",
       "1  {'https://github.com/rpm-software-management/r...  \n",
       "2  {'https://github.com/lukashinsch/spring-boot-a...  \n",
       "3  {'https://github.com/kamadak/exif-rs/commit/f2...  \n",
       "4  {'https://github.com/Kozea/CairoSVG/commit/cfc...  "
      ]
     },
     "execution_count": 7,
     "metadata": {},
     "output_type": "execute_result"
    }
   ],
   "source": [
    "df = pd.read_csv('../data/nvd/github-nvd-patches.csv', escapechar=\"\\\\\")\n",
    "df.head()"
   ]
  },
  {
   "cell_type": "code",
   "execution_count": 8,
   "id": "dcab499e",
   "metadata": {},
   "outputs": [
    {
     "data": {
      "text/plain": [
       "'7316 unique CVE entries'"
      ]
     },
     "execution_count": 8,
     "metadata": {},
     "output_type": "execute_result"
    }
   ],
   "source": [
    "f\"{len(df['cve_id'].unique())} unique CVE entries\""
   ]
  },
  {
   "cell_type": "code",
   "execution_count": 13,
   "id": "7fd84802",
   "metadata": {},
   "outputs": [
    {
     "data": {
      "text/plain": [
       "CWE-79     1011\n",
       "CWE-125     498\n",
       "CWE-119     421\n",
       "CWE-20      418\n",
       "CWE-787     315\n",
       "           ... \n",
       "CWE-114       1\n",
       "CWE-350       1\n",
       "CWE-694       1\n",
       "CWE-208       1\n",
       "CWE-786       1\n",
       "Length: 200, dtype: int64"
      ]
     },
     "execution_count": 13,
     "metadata": {},
     "output_type": "execute_result"
    }
   ],
   "source": [
    "cwes = []\n",
    "for idx, row in df.iterrows():\n",
    "    if pd.notna(row['cwes']):\n",
    "        for cwe in eval(row['cwes']):\n",
    "            if ',' in cwe:\n",
    "                print(cwe)\n",
    "        cwes += list(eval(row['cwes']))\n",
    "pd.Series(cwes).value_counts()"
   ]
  }
 ],
 "metadata": {
  "kernelspec": {
   "display_name": "Python 3 (ipykernel)",
   "language": "python",
   "name": "python3"
  },
  "language_info": {
   "codemirror_mode": {
    "name": "ipython",
    "version": 3
   },
   "file_extension": ".py",
   "mimetype": "text/x-python",
   "name": "python",
   "nbconvert_exporter": "python",
   "pygments_lexer": "ipython3",
   "version": "3.10.2"
  }
 },
 "nbformat": 4,
 "nbformat_minor": 5
}

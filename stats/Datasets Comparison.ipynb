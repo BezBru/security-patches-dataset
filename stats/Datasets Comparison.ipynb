{
 "cells": [
  {
   "cell_type": "markdown",
   "metadata": {},
   "source": [
    "# Datasets\n",
    "\n",
    "This notebook compares the initial datasets (Secbench, Pontas et al, Big Vul and CVE Details) with the final dataset."
   ]
  },
  {
   "cell_type": "code",
   "execution_count": 2,
   "metadata": {},
   "outputs": [],
   "source": [
    "import pandas as pd"
   ]
  },
  {
   "cell_type": "code",
   "execution_count": 3,
   "metadata": {},
   "outputs": [
    {
     "name": "stdout",
     "output_type": "stream",
     "text": [
      "number of vulnerabilities: 676 (= number of commits)\n",
      "number of projects: 113\n",
      "number of CVEs: 189\n",
      "number of vulnerability classes (CWEs): 51\n",
      "number of languages: 18\n"
     ]
    }
   ],
   "source": [
    "# Secbench\n",
    "df = pd.read_csv('../sources/secbench_secse17.csv')\n",
    "print('number of vulnerabilities:', len(df), '(= number of commits)')\n",
    "projects = set(['{}/{}'.format(row['owner'], row['project']) for _, row in df[['owner', 'project']].iterrows()])\n",
    "print('number of projects:', len(projects))\n",
    "print('number of CVEs:', len(df['cve_id'].unique()))\n",
    "print('number of vulnerability classes (CWEs):', len(df['cwe_id'].unique()))\n",
    "print('number of languages:', len(df['language'].unique()))"
   ]
  },
  {
   "cell_type": "code",
   "execution_count": 4,
   "metadata": {},
   "outputs": [
    {
     "name": "stdout",
     "output_type": "stream",
     "text": [
      "number of commits: 4529\n",
      "number of projects: 66\n",
      "number of CVEs: 4183 (= number of vulnerabilities)\n",
      "number of vulnerability classes (CWEs): 119\n"
     ]
    }
   ],
   "source": [
    "# CVE Details \n",
    "df = pd.read_csv('../sources//cve_details.csv')\n",
    "\n",
    "commits, projects = set(), set()\n",
    "for row in df['github']:\n",
    "    link = eval(row)\n",
    "    commits = commits | link\n",
    "    link_info = list(link)[0].split('/')\n",
    "    projects = projects | set(\"{}/{}\".format(link_info[3], link_info[4]))\n",
    "\n",
    "print('number of commits:', len(commits))\n",
    "print('number of projects:', len(projects))\n",
    "print('number of CVEs:', len(df['cve_id'].unique()), '(= number of vulnerabilities)')\n",
    "print('number of vulnerability classes (CWEs):', len(df['cwe_id'].unique()))"
   ]
  },
  {
   "cell_type": "code",
   "execution_count": 5,
   "metadata": {},
   "outputs": [
    {
     "name": "stdout",
     "output_type": "stream",
     "text": [
      "number of commits: 1282\n",
      "number of projects: 205\n",
      "number of CVEs: 624\n"
     ]
    }
   ],
   "source": [
    "# Pontas et al.\n",
    "df = pd.read_csv('../sources//pontas_msr19.csv')\n",
    "print('number of commits:', len(df))\n",
    "print('number of projects:', len(df['project'].unique()))\n",
    "print('number of CVEs:', len(df['cve_id'].unique()))"
   ]
  },
  {
   "cell_type": "code",
   "execution_count": 6,
   "metadata": {},
   "outputs": [
    {
     "name": "stdout",
     "output_type": "stream",
     "text": [
      "number of CVEs: 3755\n",
      "number of commits: 4529\n",
      "number of projects: 66\n",
      "number of vulnerability classes (CWEs): 92\n"
     ]
    }
   ],
   "source": [
    "# Big-Vul \n",
    "df = pd.read_csv('../sources//big_vul_msr20.csv')\n",
    "\n",
    "print('number of CVEs:', len(df['cve_id'].unique()))\n",
    "print('number of commits:', len(commits))\n",
    "print('number of projects:', len(projects))\n",
    "print('number of vulnerability classes (CWEs):', len(df['cwe_id'].unique()))"
   ]
  },
  {
   "cell_type": "code",
   "execution_count": 8,
   "metadata": {},
   "outputs": [
    {
     "name": "stdout",
     "output_type": "stream",
     "text": [
      "Secbench\n",
      "number of commits and patches: 659\n",
      "\n",
      "Pontas et al.\n",
      "number of commits: 1127\n",
      "number of patches: 565\n",
      "\n",
      "Big Vul\n",
      "number of commits: 4047\n",
      "number of patches: 3433\n",
      "\n",
      "CVE Details\n",
      "number of commits: 2224\n",
      "number of patches: 1816\n"
     ]
    }
   ],
   "source": [
    "df = pd.read_csv('../dataset/positive.csv')\n",
    "\n",
    "print('Secbench')\n",
    "print('number of commits and patches:', len(df[df['dataset'] == 'SECBENCH']))\n",
    "\n",
    "print('\\nPontas et al.')\n",
    "print('number of commits:', len(df[df['dataset'] == 'PONTAS']))\n",
    "print('number of patches:', len(df[df['dataset'] == 'PONTAS']['cve_id'].unique()))\n",
    "\n",
    "print('\\nBig Vul')\n",
    "print('number of commits:', len(df[df['dataset'] == 'BIGVUL']))\n",
    "print('number of patches:', len(df[df['dataset'] == 'BIGVUL']['cve_id'].unique()))\n",
    "\n",
    "print('\\nCVE Details')\n",
    "print('number of commits:', len(df[df['dataset'] == 'CVEDETAILS']))\n",
    "print('number of patches:', len(df[df['dataset'] == 'CVEDETAILS']['cve_id'].unique()))"
   ]
  }
 ],
 "metadata": {
  "kernelspec": {
   "display_name": "Python 3",
   "language": "python",
   "name": "python3"
  },
  "language_info": {
   "codemirror_mode": {
    "name": "ipython",
    "version": 3
   },
   "file_extension": ".py",
   "mimetype": "text/x-python",
   "name": "python",
   "nbconvert_exporter": "python",
   "pygments_lexer": "ipython3",
   "version": "3.7.6"
  }
 },
 "nbformat": 4,
 "nbformat_minor": 4
}

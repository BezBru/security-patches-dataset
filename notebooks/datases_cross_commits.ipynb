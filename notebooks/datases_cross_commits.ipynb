{
 "cells": [
  {
   "cell_type": "markdown",
   "metadata": {},
   "source": [
    "# Datasets\n",
    "\n",
    "This notebook compares the initial datasets (Secbench, Pontas et al, Big Vul and CVE Details) with the final dataset."
   ]
  },
  {
   "cell_type": "code",
   "execution_count": 3,
   "metadata": {},
   "outputs": [],
   "source": [
    "import pandas as pd\n",
    "from matplotlib import pyplot as plt\n",
    "from venn import venn"
   ]
  },
  {
   "cell_type": "markdown",
   "metadata": {},
   "source": [
    "### Research Dataset: SECBENCH"
   ]
  },
  {
   "cell_type": "code",
   "execution_count": 4,
   "metadata": {},
   "outputs": [
    {
     "data": {
      "text/html": [
       "<div>\n",
       "<style scoped>\n",
       "    .dataframe tbody tr th:only-of-type {\n",
       "        vertical-align: middle;\n",
       "    }\n",
       "\n",
       "    .dataframe tbody tr th {\n",
       "        vertical-align: top;\n",
       "    }\n",
       "\n",
       "    .dataframe thead th {\n",
       "        text-align: right;\n",
       "    }\n",
       "</style>\n",
       "<table border=\"1\" class=\"dataframe\">\n",
       "  <thead>\n",
       "    <tr style=\"text-align: right;\">\n",
       "      <th></th>\n",
       "      <th>owner</th>\n",
       "      <th>project</th>\n",
       "      <th>sha</th>\n",
       "      <th>sha-p</th>\n",
       "      <th>year</th>\n",
       "      <th>language</th>\n",
       "      <th>cve_id</th>\n",
       "      <th>cwe_id</th>\n",
       "      <th>score</th>\n",
       "      <th>severity</th>\n",
       "    </tr>\n",
       "  </thead>\n",
       "  <tbody>\n",
       "    <tr>\n",
       "      <th>0</th>\n",
       "      <td>pfsense</td>\n",
       "      <td>pfsense</td>\n",
       "      <td>002bc4ab3268e6e5cb3a01ce73a4c1624d09050a</td>\n",
       "      <td>d6a0379d291f5e98500776618559343f40254e40</td>\n",
       "      <td>2010</td>\n",
       "      <td>php</td>\n",
       "      <td>NaN</td>\n",
       "      <td>CWE-77</td>\n",
       "      <td>NaN</td>\n",
       "      <td>NaN</td>\n",
       "    </tr>\n",
       "    <tr>\n",
       "      <th>1</th>\n",
       "      <td>nextcloud</td>\n",
       "      <td>server</td>\n",
       "      <td>0074062b5329c3d43679909fddce2d70608a4475</td>\n",
       "      <td>5c6a7172cafc395d38c58d1b5afd6b36efb33ad5</td>\n",
       "      <td>2012</td>\n",
       "      <td>php</td>\n",
       "      <td>NaN</td>\n",
       "      <td>CWE-79</td>\n",
       "      <td>NaN</td>\n",
       "      <td>NaN</td>\n",
       "    </tr>\n",
       "    <tr>\n",
       "      <th>2</th>\n",
       "      <td>nextcloud</td>\n",
       "      <td>server</td>\n",
       "      <td>0241ddc759f7e2d2695c4626df5d2ac27b8b1d90</td>\n",
       "      <td>c2e2c59ca7aa873bd07de04ea701a8b351383aec</td>\n",
       "      <td>2014</td>\n",
       "      <td>php</td>\n",
       "      <td>NaN</td>\n",
       "      <td>CWE-384</td>\n",
       "      <td>NaN</td>\n",
       "      <td>NaN</td>\n",
       "    </tr>\n",
       "    <tr>\n",
       "      <th>3</th>\n",
       "      <td>mantisbt</td>\n",
       "      <td>mantisbt</td>\n",
       "      <td>00b4c17088fa56594d85fe46b6c6057bb3421102</td>\n",
       "      <td>b72fdaeb7cb8786401faab520d43092c8bdb44aa</td>\n",
       "      <td>2014</td>\n",
       "      <td>php</td>\n",
       "      <td>CVE-2014-1608</td>\n",
       "      <td>CWE-89</td>\n",
       "      <td>7.5</td>\n",
       "      <td>HIGH</td>\n",
       "    </tr>\n",
       "    <tr>\n",
       "      <th>4</th>\n",
       "      <td>splitbrain</td>\n",
       "      <td>dokuwiki</td>\n",
       "      <td>02b0b681935185a1c4d2d64e76fe499f3d438d12</td>\n",
       "      <td>10ffc9dd6a89562ef502baa21f968cf269fe21b0</td>\n",
       "      <td>2006</td>\n",
       "      <td>php</td>\n",
       "      <td>NaN</td>\n",
       "      <td>CWE-79</td>\n",
       "      <td>NaN</td>\n",
       "      <td>NaN</td>\n",
       "    </tr>\n",
       "  </tbody>\n",
       "</table>\n",
       "</div>"
      ],
      "text/plain": [
       "        owner   project                                       sha  \\\n",
       "0     pfsense   pfsense  002bc4ab3268e6e5cb3a01ce73a4c1624d09050a   \n",
       "1   nextcloud    server  0074062b5329c3d43679909fddce2d70608a4475   \n",
       "2   nextcloud    server  0241ddc759f7e2d2695c4626df5d2ac27b8b1d90   \n",
       "3    mantisbt  mantisbt  00b4c17088fa56594d85fe46b6c6057bb3421102   \n",
       "4  splitbrain  dokuwiki  02b0b681935185a1c4d2d64e76fe499f3d438d12   \n",
       "\n",
       "                                      sha-p  year language         cve_id  \\\n",
       "0  d6a0379d291f5e98500776618559343f40254e40  2010      php            NaN   \n",
       "1  5c6a7172cafc395d38c58d1b5afd6b36efb33ad5  2012      php            NaN   \n",
       "2  c2e2c59ca7aa873bd07de04ea701a8b351383aec  2014      php            NaN   \n",
       "3  b72fdaeb7cb8786401faab520d43092c8bdb44aa  2014      php  CVE-2014-1608   \n",
       "4  10ffc9dd6a89562ef502baa21f968cf269fe21b0  2006      php            NaN   \n",
       "\n",
       "    cwe_id  score severity  \n",
       "0   CWE-77    NaN      NaN  \n",
       "1   CWE-79    NaN      NaN  \n",
       "2  CWE-384    NaN      NaN  \n",
       "3   CWE-89    7.5     HIGH  \n",
       "4   CWE-79    NaN      NaN  "
      ]
     },
     "execution_count": 4,
     "metadata": {},
     "output_type": "execute_result"
    }
   ],
   "source": [
    "df = pd.read_csv('../github-patches/secbench_secse17.csv')\n",
    "df.head()"
   ]
  },
  {
   "cell_type": "code",
   "execution_count": 5,
   "metadata": {},
   "outputs": [
    {
     "name": "stdout",
     "output_type": "stream",
     "text": [
      "number of vulnerabilities: 676 (= number of commits)\n",
      "number of projects: 113\n",
      "number of CVEs: 189\n",
      "number of vulnerability classes (CWEs): 51\n",
      "number of languages: 18\n"
     ]
    }
   ],
   "source": [
    "print('number of vulnerabilities:', len(df), '(= number of commits)')\n",
    "projects = set(['{}/{}'.format(row['owner'], row['project']) for _, row in df[['owner', 'project']].iterrows()])\n",
    "print('number of projects:', len(projects))\n",
    "print('number of CVEs:', len(df['cve_id'].unique()))\n",
    "print('number of vulnerability classes (CWEs):', len(df['cwe_id'].unique()))\n",
    "print('number of languages:', len(df['language'].unique()))"
   ]
  },
  {
   "cell_type": "code",
   "execution_count": 6,
   "metadata": {},
   "outputs": [],
   "source": [
    "secbench_commits = set([f\"https://github.com/{row['owner']}/{row['project']}/{row['sha']}\" for _, row in df.iterrows()])"
   ]
  },
  {
   "cell_type": "markdown",
   "metadata": {},
   "source": [
    "### Research Dataset: Devign"
   ]
  },
  {
   "cell_type": "code",
   "execution_count": 7,
   "metadata": {},
   "outputs": [
    {
     "data": {
      "text/html": [
       "<div>\n",
       "<style scoped>\n",
       "    .dataframe tbody tr th:only-of-type {\n",
       "        vertical-align: middle;\n",
       "    }\n",
       "\n",
       "    .dataframe tbody tr th {\n",
       "        vertical-align: top;\n",
       "    }\n",
       "\n",
       "    .dataframe thead th {\n",
       "        text-align: right;\n",
       "    }\n",
       "</style>\n",
       "<table border=\"1\" class=\"dataframe\">\n",
       "  <thead>\n",
       "    <tr style=\"text-align: right;\">\n",
       "      <th></th>\n",
       "      <th>sha_id</th>\n",
       "      <th>project</th>\n",
       "    </tr>\n",
       "  </thead>\n",
       "  <tbody>\n",
       "    <tr>\n",
       "      <th>0</th>\n",
       "      <td>59b126f92225316e0cd77bb952d630553801dc85</td>\n",
       "      <td>ffmpeg</td>\n",
       "    </tr>\n",
       "    <tr>\n",
       "      <th>1</th>\n",
       "      <td>96e340760824e537e2d034abf9a3b8be3e2b312c</td>\n",
       "      <td>ffmpeg</td>\n",
       "    </tr>\n",
       "    <tr>\n",
       "      <th>2</th>\n",
       "      <td>b93d96a07be40f8e5d267d55fe961285586c0fd7</td>\n",
       "      <td>ffmpeg</td>\n",
       "    </tr>\n",
       "    <tr>\n",
       "      <th>3</th>\n",
       "      <td>5b4baf1506277863e9c1fa4bd302a4653e859669</td>\n",
       "      <td>ffmpeg</td>\n",
       "    </tr>\n",
       "    <tr>\n",
       "      <th>4</th>\n",
       "      <td>51090133b31bc719ea868db15d3ee38e9dbe90f1</td>\n",
       "      <td>ffmpeg</td>\n",
       "    </tr>\n",
       "  </tbody>\n",
       "</table>\n",
       "</div>"
      ],
      "text/plain": [
       "                                     sha_id project\n",
       "0  59b126f92225316e0cd77bb952d630553801dc85  ffmpeg\n",
       "1  96e340760824e537e2d034abf9a3b8be3e2b312c  ffmpeg\n",
       "2  b93d96a07be40f8e5d267d55fe961285586c0fd7  ffmpeg\n",
       "3  5b4baf1506277863e9c1fa4bd302a4653e859669  ffmpeg\n",
       "4  51090133b31bc719ea868db15d3ee38e9dbe90f1  ffmpeg"
      ]
     },
     "execution_count": 7,
     "metadata": {},
     "output_type": "execute_result"
    }
   ],
   "source": [
    "# Devign\n",
    "df = pd.read_csv('../github-patches/devign_neurips19.csv')\n",
    "df.head()"
   ]
  },
  {
   "cell_type": "code",
   "execution_count": 8,
   "metadata": {},
   "outputs": [
    {
     "name": "stdout",
     "output_type": "stream",
     "text": [
      "number of vulnerabilities: 10894\n",
      "number of projects: 2\n"
     ]
    }
   ],
   "source": [
    "print('number of vulnerabilities:', len(df))\n",
    "print('number of projects:', len(df['project'].unique()))"
   ]
  },
  {
   "cell_type": "code",
   "execution_count": 9,
   "metadata": {},
   "outputs": [],
   "source": [
    "devign_commits = set([f\"https://github.com/{row['project']}/{row['project']}/{row['sha_id']}\" for _, row in df.iterrows()])"
   ]
  },
  {
   "cell_type": "markdown",
   "metadata": {},
   "source": [
    "### Research Dataset: SAP"
   ]
  },
  {
   "cell_type": "code",
   "execution_count": 10,
   "metadata": {},
   "outputs": [
    {
     "data": {
      "text/html": [
       "<div>\n",
       "<style scoped>\n",
       "    .dataframe tbody tr th:only-of-type {\n",
       "        vertical-align: middle;\n",
       "    }\n",
       "\n",
       "    .dataframe tbody tr th {\n",
       "        vertical-align: top;\n",
       "    }\n",
       "\n",
       "    .dataframe thead th {\n",
       "        text-align: right;\n",
       "    }\n",
       "</style>\n",
       "<table border=\"1\" class=\"dataframe\">\n",
       "  <thead>\n",
       "    <tr style=\"text-align: right;\">\n",
       "      <th></th>\n",
       "      <th>cve_id</th>\n",
       "      <th>project</th>\n",
       "      <th>sha</th>\n",
       "      <th>type</th>\n",
       "    </tr>\n",
       "  </thead>\n",
       "  <tbody>\n",
       "    <tr>\n",
       "      <th>0</th>\n",
       "      <td>CVE-2017-4971</td>\n",
       "      <td>https://github.com/spring-projects/spring-webflow</td>\n",
       "      <td>57f2ccb66946943fbf3b3f2165eac1c8eb6b1523</td>\n",
       "      <td>pos</td>\n",
       "    </tr>\n",
       "    <tr>\n",
       "      <th>1</th>\n",
       "      <td>CVE-2018-1000134</td>\n",
       "      <td>https://github.com/pingidentity/ldapsdk</td>\n",
       "      <td>8471904a02438c03965d21367890276bc25fa5a6</td>\n",
       "      <td>pos</td>\n",
       "    </tr>\n",
       "    <tr>\n",
       "      <th>2</th>\n",
       "      <td>CVE-2016-8749</td>\n",
       "      <td>https://github.com/apache/camel</td>\n",
       "      <td>57d01e2fc8923263df896e9810329ee5b7f9b69</td>\n",
       "      <td>pos</td>\n",
       "    </tr>\n",
       "    <tr>\n",
       "      <th>3</th>\n",
       "      <td>CVE-2017-1000393</td>\n",
       "      <td>https://github.com/jenkinsci/jenkins</td>\n",
       "      <td>d7ea3f40efedd50541a57b943d5f7bbed046d091</td>\n",
       "      <td>pos</td>\n",
       "    </tr>\n",
       "    <tr>\n",
       "      <th>4</th>\n",
       "      <td>CVE-2018-8034</td>\n",
       "      <td>https://github.com/apache/tomcat</td>\n",
       "      <td>2835bb4e030c1c741ed0847bb3b9c3822e4fbc8a</td>\n",
       "      <td>pos</td>\n",
       "    </tr>\n",
       "  </tbody>\n",
       "</table>\n",
       "</div>"
      ],
      "text/plain": [
       "             cve_id                                            project  \\\n",
       "0     CVE-2017-4971  https://github.com/spring-projects/spring-webflow   \n",
       "1  CVE-2018-1000134            https://github.com/pingidentity/ldapsdk   \n",
       "2     CVE-2016-8749                    https://github.com/apache/camel   \n",
       "3  CVE-2017-1000393               https://github.com/jenkinsci/jenkins   \n",
       "4     CVE-2018-8034                   https://github.com/apache/tomcat   \n",
       "\n",
       "                                        sha type  \n",
       "0  57f2ccb66946943fbf3b3f2165eac1c8eb6b1523  pos  \n",
       "1  8471904a02438c03965d21367890276bc25fa5a6  pos  \n",
       "2   57d01e2fc8923263df896e9810329ee5b7f9b69  pos  \n",
       "3  d7ea3f40efedd50541a57b943d5f7bbed046d091  pos  \n",
       "4  2835bb4e030c1c741ed0847bb3b9c3822e4fbc8a  pos  "
      ]
     },
     "execution_count": 10,
     "metadata": {},
     "output_type": "execute_result"
    }
   ],
   "source": [
    "df = pd.read_csv('../github-patches/pontas_msr19.csv')\n",
    "df.head()"
   ]
  },
  {
   "cell_type": "code",
   "execution_count": 11,
   "metadata": {},
   "outputs": [
    {
     "name": "stdout",
     "output_type": "stream",
     "text": [
      "number of commits: 1282\n",
      "number of projects: 205\n",
      "number of CVEs: 624\n"
     ]
    }
   ],
   "source": [
    "print('number of commits:', len(df))\n",
    "print('number of projects:', len(df['project'].unique()))\n",
    "print('number of CVEs:', len(df['cve_id'].unique()))"
   ]
  },
  {
   "cell_type": "code",
   "execution_count": 12,
   "metadata": {},
   "outputs": [],
   "source": [
    "sap_commits = set([f\"https://github.com/{row['project']}/{row['sha']}\" for _, row in df.iterrows()])"
   ]
  },
  {
   "cell_type": "markdown",
   "metadata": {},
   "source": [
    "### Research Dataset: Big-Vul"
   ]
  },
  {
   "cell_type": "code",
   "execution_count": 7,
   "metadata": {},
   "outputs": [
    {
     "data": {
      "text/html": [
       "<div>\n",
       "<style scoped>\n",
       "    .dataframe tbody tr th:only-of-type {\n",
       "        vertical-align: middle;\n",
       "    }\n",
       "\n",
       "    .dataframe tbody tr th {\n",
       "        vertical-align: top;\n",
       "    }\n",
       "\n",
       "    .dataframe thead th {\n",
       "        text-align: right;\n",
       "    }\n",
       "</style>\n",
       "<table border=\"1\" class=\"dataframe\">\n",
       "  <thead>\n",
       "    <tr style=\"text-align: right;\">\n",
       "      <th></th>\n",
       "      <th>Unnamed: 0</th>\n",
       "      <th>authentication_required</th>\n",
       "      <th>availability_impact</th>\n",
       "      <th>cve_id</th>\n",
       "      <th>cve_page</th>\n",
       "      <th>cwe_id</th>\n",
       "      <th>access_complexity</th>\n",
       "      <th>confidentiality_impact</th>\n",
       "      <th>integrity_impact</th>\n",
       "      <th>publish_date</th>\n",
       "      <th>...</th>\n",
       "      <th>update_date</th>\n",
       "      <th>vulnerability_classification</th>\n",
       "      <th>ref_link</th>\n",
       "      <th>commit_id</th>\n",
       "      <th>commit_message</th>\n",
       "      <th>files_changed</th>\n",
       "      <th>lang</th>\n",
       "      <th>project</th>\n",
       "      <th>version_after_fix</th>\n",
       "      <th>version_before_fix</th>\n",
       "    </tr>\n",
       "  </thead>\n",
       "  <tbody>\n",
       "    <tr>\n",
       "      <th>0</th>\n",
       "      <td>0</td>\n",
       "      <td>Not required</td>\n",
       "      <td>Partial</td>\n",
       "      <td>CVE-2009-1194</td>\n",
       "      <td>https://www.cvedetails.com/cve/CVE-2009-1194/</td>\n",
       "      <td>CWE-189</td>\n",
       "      <td>Medium</td>\n",
       "      <td>Partial</td>\n",
       "      <td>Partial</td>\n",
       "      <td>2009-05-11</td>\n",
       "      <td>...</td>\n",
       "      <td>2018-10-10</td>\n",
       "      <td>DoS Exec Code Overflow</td>\n",
       "      <td>https://github.com/bratsche/pango/commit/4de30...</td>\n",
       "      <td>4de30e5500eaeb49f4bf0b7a07f718e149a2ed5e</td>\n",
       "      <td>[glyphstring] Handle overflow with very long g...</td>\n",
       "      <td>{\"sha\": \"8fb70313eb8835dcce812a86209e2a7d88457...</td>\n",
       "      <td>C</td>\n",
       "      <td>pango</td>\n",
       "      <td>4de30e5500eaeb49f4bf0b7a07f718e149a2ed5e</td>\n",
       "      <td>1c9433bfe43890b102c8cead8ab3ee34b44c5c37</td>\n",
       "    </tr>\n",
       "    <tr>\n",
       "      <th>1</th>\n",
       "      <td>1</td>\n",
       "      <td>Not required</td>\n",
       "      <td>Partial</td>\n",
       "      <td>CVE-2010-2809</td>\n",
       "      <td>https://www.cvedetails.com/cve/CVE-2010-2809/</td>\n",
       "      <td>CWE-94</td>\n",
       "      <td>Medium</td>\n",
       "      <td>Partial</td>\n",
       "      <td>Partial</td>\n",
       "      <td>2010-08-19</td>\n",
       "      <td>...</td>\n",
       "      <td>2017-08-16</td>\n",
       "      <td>Exec Code</td>\n",
       "      <td>https://github.com/Dieterbe/uzbl/commit/9cc39c...</td>\n",
       "      <td>9cc39cb5c9396be013b5dc2ba7e4b3eaa647e975</td>\n",
       "      <td>Don't shell-interpret \\@SELECTED_URI (fixes FS...</td>\n",
       "      <td>{\"sha\": \"da2c583dc09acf7eb567df6c9c629e61f3c80...</td>\n",
       "      <td>C</td>\n",
       "      <td>uzbl</td>\n",
       "      <td>9cc39cb5c9396be013b5dc2ba7e4b3eaa647e975</td>\n",
       "      <td>afc0f873e873839da75a54e8ca8095d335527786</td>\n",
       "    </tr>\n",
       "    <tr>\n",
       "      <th>2</th>\n",
       "      <td>2</td>\n",
       "      <td>Not required</td>\n",
       "      <td>Partial</td>\n",
       "      <td>CVE-2010-2060</td>\n",
       "      <td>https://www.cvedetails.com/cve/CVE-2010-2060/</td>\n",
       "      <td>NaN</td>\n",
       "      <td>Low</td>\n",
       "      <td>Partial</td>\n",
       "      <td>Partial</td>\n",
       "      <td>2010-06-07</td>\n",
       "      <td>...</td>\n",
       "      <td>2017-08-16</td>\n",
       "      <td>Exec Code</td>\n",
       "      <td>https://github.com/kr/beanstalkd/commit/2e8e8c...</td>\n",
       "      <td>2e8e8c6387ecdf5923dfc4d7718d18eba1b0873d</td>\n",
       "      <td>Discard job body bytes if the job is too big.\\...</td>\n",
       "      <td>{\"sha\": \"bcfb7d4b22c28d3f909d13dad54b4caa1284f...</td>\n",
       "      <td>C</td>\n",
       "      <td>beanstalkd</td>\n",
       "      <td>2e8e8c6387ecdf5923dfc4d7718d18eba1b0873d</td>\n",
       "      <td>62328a506b8ed24e52c264f073ecbf4e9254f861</td>\n",
       "    </tr>\n",
       "    <tr>\n",
       "      <th>3</th>\n",
       "      <td>3</td>\n",
       "      <td>Not required</td>\n",
       "      <td>Partial</td>\n",
       "      <td>CVE-2010-1155</td>\n",
       "      <td>https://www.cvedetails.com/cve/CVE-2010-1155/</td>\n",
       "      <td>CWE-20</td>\n",
       "      <td>Medium</td>\n",
       "      <td>Partial</td>\n",
       "      <td>Partial</td>\n",
       "      <td>2010-04-16</td>\n",
       "      <td>...</td>\n",
       "      <td>2017-08-16</td>\n",
       "      <td>NaN</td>\n",
       "      <td>https://github.com/ensc/irssi-proxy/commit/85b...</td>\n",
       "      <td>85bbc05b21678e80423815d2ef1dfe26208491ab</td>\n",
       "      <td>Check if an SSL certificate matches the hostna...</td>\n",
       "      <td>{\"sha\": \"5a9c9bc71553d37a17b89654bec0b6e98b567...</td>\n",
       "      <td>C</td>\n",
       "      <td>irssi-proxy</td>\n",
       "      <td>85bbc05b21678e80423815d2ef1dfe26208491ab</td>\n",
       "      <td>d5688da48306918cdfd79ee9b27abe377204befb</td>\n",
       "    </tr>\n",
       "    <tr>\n",
       "      <th>4</th>\n",
       "      <td>4</td>\n",
       "      <td>Not required</td>\n",
       "      <td>Partial</td>\n",
       "      <td>CVE-2010-1152</td>\n",
       "      <td>https://www.cvedetails.com/cve/CVE-2010-1152/</td>\n",
       "      <td>CWE-20</td>\n",
       "      <td>Low</td>\n",
       "      <td>None</td>\n",
       "      <td>None</td>\n",
       "      <td>2010-04-12</td>\n",
       "      <td>...</td>\n",
       "      <td>2011-03-01</td>\n",
       "      <td>DoS</td>\n",
       "      <td>https://github.com/memcached/memcached/commit/...</td>\n",
       "      <td>d9cd01ede97f4145af9781d448c62a3318952719</td>\n",
       "      <td>Use strncmp when checking for large ascii mult...</td>\n",
       "      <td>{\"sha\": \"3e2e9c59e274910dd88af6fbb73006279b5a6...</td>\n",
       "      <td>C</td>\n",
       "      <td>memcached</td>\n",
       "      <td>d9cd01ede97f4145af9781d448c62a3318952719</td>\n",
       "      <td>ea0fec7989ba00cf68326d017fd801a1716f8855</td>\n",
       "    </tr>\n",
       "  </tbody>\n",
       "</table>\n",
       "<p>5 rows × 22 columns</p>\n",
       "</div>"
      ],
      "text/plain": [
       "   Unnamed: 0 authentication_required availability_impact         cve_id  \\\n",
       "0           0            Not required             Partial  CVE-2009-1194   \n",
       "1           1            Not required             Partial  CVE-2010-2809   \n",
       "2           2            Not required             Partial  CVE-2010-2060   \n",
       "3           3            Not required             Partial  CVE-2010-1155   \n",
       "4           4            Not required             Partial  CVE-2010-1152   \n",
       "\n",
       "                                        cve_page   cwe_id access_complexity  \\\n",
       "0  https://www.cvedetails.com/cve/CVE-2009-1194/  CWE-189            Medium   \n",
       "1  https://www.cvedetails.com/cve/CVE-2010-2809/   CWE-94            Medium   \n",
       "2  https://www.cvedetails.com/cve/CVE-2010-2060/      NaN               Low   \n",
       "3  https://www.cvedetails.com/cve/CVE-2010-1155/   CWE-20            Medium   \n",
       "4  https://www.cvedetails.com/cve/CVE-2010-1152/   CWE-20               Low   \n",
       "\n",
       "  confidentiality_impact integrity_impact publish_date  ...  update_date  \\\n",
       "0                Partial          Partial   2009-05-11  ...   2018-10-10   \n",
       "1                Partial          Partial   2010-08-19  ...   2017-08-16   \n",
       "2                Partial          Partial   2010-06-07  ...   2017-08-16   \n",
       "3                Partial          Partial   2010-04-16  ...   2017-08-16   \n",
       "4                   None             None   2010-04-12  ...   2011-03-01   \n",
       "\n",
       "  vulnerability_classification  \\\n",
       "0      DoS Exec Code Overflow    \n",
       "1                   Exec Code    \n",
       "2                   Exec Code    \n",
       "3                          NaN   \n",
       "4                         DoS    \n",
       "\n",
       "                                            ref_link  \\\n",
       "0  https://github.com/bratsche/pango/commit/4de30...   \n",
       "1  https://github.com/Dieterbe/uzbl/commit/9cc39c...   \n",
       "2  https://github.com/kr/beanstalkd/commit/2e8e8c...   \n",
       "3  https://github.com/ensc/irssi-proxy/commit/85b...   \n",
       "4  https://github.com/memcached/memcached/commit/...   \n",
       "\n",
       "                                  commit_id  \\\n",
       "0  4de30e5500eaeb49f4bf0b7a07f718e149a2ed5e   \n",
       "1  9cc39cb5c9396be013b5dc2ba7e4b3eaa647e975   \n",
       "2  2e8e8c6387ecdf5923dfc4d7718d18eba1b0873d   \n",
       "3  85bbc05b21678e80423815d2ef1dfe26208491ab   \n",
       "4  d9cd01ede97f4145af9781d448c62a3318952719   \n",
       "\n",
       "                                      commit_message  \\\n",
       "0  [glyphstring] Handle overflow with very long g...   \n",
       "1  Don't shell-interpret \\@SELECTED_URI (fixes FS...   \n",
       "2  Discard job body bytes if the job is too big.\\...   \n",
       "3  Check if an SSL certificate matches the hostna...   \n",
       "4  Use strncmp when checking for large ascii mult...   \n",
       "\n",
       "                                       files_changed lang      project  \\\n",
       "0  {\"sha\": \"8fb70313eb8835dcce812a86209e2a7d88457...    C        pango   \n",
       "1  {\"sha\": \"da2c583dc09acf7eb567df6c9c629e61f3c80...    C         uzbl   \n",
       "2  {\"sha\": \"bcfb7d4b22c28d3f909d13dad54b4caa1284f...    C   beanstalkd   \n",
       "3  {\"sha\": \"5a9c9bc71553d37a17b89654bec0b6e98b567...    C  irssi-proxy   \n",
       "4  {\"sha\": \"3e2e9c59e274910dd88af6fbb73006279b5a6...    C    memcached   \n",
       "\n",
       "                          version_after_fix  \\\n",
       "0  4de30e5500eaeb49f4bf0b7a07f718e149a2ed5e   \n",
       "1  9cc39cb5c9396be013b5dc2ba7e4b3eaa647e975   \n",
       "2  2e8e8c6387ecdf5923dfc4d7718d18eba1b0873d   \n",
       "3  85bbc05b21678e80423815d2ef1dfe26208491ab   \n",
       "4  d9cd01ede97f4145af9781d448c62a3318952719   \n",
       "\n",
       "                         version_before_fix  \n",
       "0  1c9433bfe43890b102c8cead8ab3ee34b44c5c37  \n",
       "1  afc0f873e873839da75a54e8ca8095d335527786  \n",
       "2  62328a506b8ed24e52c264f073ecbf4e9254f861  \n",
       "3  d5688da48306918cdfd79ee9b27abe377204befb  \n",
       "4  ea0fec7989ba00cf68326d017fd801a1716f8855  \n",
       "\n",
       "[5 rows x 22 columns]"
      ]
     },
     "execution_count": 7,
     "metadata": {},
     "output_type": "execute_result"
    }
   ],
   "source": [
    "df = pd.read_csv('../github-patches/big_vul_msr20.csv')\n",
    "df.head()"
   ]
  },
  {
   "cell_type": "code",
   "execution_count": 8,
   "metadata": {},
   "outputs": [
    {
     "name": "stdout",
     "output_type": "stream",
     "text": [
      "4432\n",
      "number of CVEs: 3755\n",
      "number of vulnerability classes (CWEs): 92\n"
     ]
    }
   ],
   "source": [
    "print('number of CVEs:', len(df['cve_id'].unique()))\n",
    "print('number of vulnerability classes (CWEs):', len(df['cwe_id'].unique()))"
   ]
  },
  {
   "cell_type": "code",
   "execution_count": 15,
   "metadata": {},
   "outputs": [],
   "source": [
    "bigvul_commits = set(list(df['ref_link']))"
   ]
  },
  {
   "cell_type": "markdown",
   "metadata": {},
   "source": [
    "### Source: NVD"
   ]
  },
  {
   "cell_type": "code",
   "execution_count": 4,
   "metadata": {},
   "outputs": [
    {
     "data": {
      "text/html": [
       "<div>\n",
       "<style scoped>\n",
       "    .dataframe tbody tr th:only-of-type {\n",
       "        vertical-align: middle;\n",
       "    }\n",
       "\n",
       "    .dataframe tbody tr th {\n",
       "        vertical-align: top;\n",
       "    }\n",
       "\n",
       "    .dataframe thead th {\n",
       "        text-align: right;\n",
       "    }\n",
       "</style>\n",
       "<table border=\"1\" class=\"dataframe\">\n",
       "  <thead>\n",
       "    <tr style=\"text-align: right;\">\n",
       "      <th></th>\n",
       "      <th>cve_id</th>\n",
       "      <th>year</th>\n",
       "      <th>cwes</th>\n",
       "      <th>description</th>\n",
       "      <th>severity</th>\n",
       "      <th>exploitability</th>\n",
       "      <th>impact</th>\n",
       "      <th>published_date</th>\n",
       "      <th>last_modified_date</th>\n",
       "      <th>refs</th>\n",
       "      <th>code_refs</th>\n",
       "      <th>commits</th>\n",
       "    </tr>\n",
       "  </thead>\n",
       "  <tbody>\n",
       "    <tr>\n",
       "      <th>0</th>\n",
       "      <td>CVE-2021-20230</td>\n",
       "      <td>2021</td>\n",
       "      <td>{'CWE-295'}</td>\n",
       "      <td>A flaw was found in stunnel before 5.57, where...</td>\n",
       "      <td>MEDIUM</td>\n",
       "      <td>10.0</td>\n",
       "      <td>2.9</td>\n",
       "      <td>2021-02-23T17:15Z</td>\n",
       "      <td>2021-05-26T10:15Z</td>\n",
       "      <td>{'https://github.com/mtrojnar/stunnel/commit/e...</td>\n",
       "      <td>{'https://github.com/mtrojnar/stunnel/commit/e...</td>\n",
       "      <td>{'https://github.com/mtrojnar/stunnel/commit/e...</td>\n",
       "    </tr>\n",
       "    <tr>\n",
       "      <th>1</th>\n",
       "      <td>CVE-2021-20271</td>\n",
       "      <td>2021</td>\n",
       "      <td>{'CWE-345'}</td>\n",
       "      <td>A flaw was found in RPM's signature check func...</td>\n",
       "      <td>MEDIUM</td>\n",
       "      <td>4.9</td>\n",
       "      <td>6.4</td>\n",
       "      <td>2021-03-26T17:15Z</td>\n",
       "      <td>2021-12-10T19:50Z</td>\n",
       "      <td>{'https://security.gentoo.org/glsa/202107-43',...</td>\n",
       "      <td>{'https://github.com/rpm-software-management/r...</td>\n",
       "      <td>{'https://github.com/rpm-software-management/r...</td>\n",
       "    </tr>\n",
       "    <tr>\n",
       "      <th>2</th>\n",
       "      <td>CVE-2021-21234</td>\n",
       "      <td>2021</td>\n",
       "      <td>{'CWE-22'}</td>\n",
       "      <td>spring-boot-actuator-logview in a library that...</td>\n",
       "      <td>MEDIUM</td>\n",
       "      <td>8.0</td>\n",
       "      <td>2.9</td>\n",
       "      <td>2021-01-05T18:15Z</td>\n",
       "      <td>2021-01-11T14:41Z</td>\n",
       "      <td>{'https://github.com/lukashinsch/spring-boot-a...</td>\n",
       "      <td>{'https://github.com/lukashinsch/spring-boot-a...</td>\n",
       "      <td>{'https://github.com/lukashinsch/spring-boot-a...</td>\n",
       "    </tr>\n",
       "    <tr>\n",
       "      <th>3</th>\n",
       "      <td>CVE-2021-21235</td>\n",
       "      <td>2021</td>\n",
       "      <td>{'CWE-400'}</td>\n",
       "      <td>kamadak-exif is an exif parsing library writte...</td>\n",
       "      <td>MEDIUM</td>\n",
       "      <td>8.6</td>\n",
       "      <td>2.9</td>\n",
       "      <td>2021-01-06T02:15Z</td>\n",
       "      <td>2021-01-08T19:23Z</td>\n",
       "      <td>{'https://crates.io/crates/kamadak-exif', 'htt...</td>\n",
       "      <td>{'https://github.com/kamadak/exif-rs/commit/f2...</td>\n",
       "      <td>{'https://github.com/kamadak/exif-rs/commit/f2...</td>\n",
       "    </tr>\n",
       "    <tr>\n",
       "      <th>4</th>\n",
       "      <td>CVE-2021-21236</td>\n",
       "      <td>2021</td>\n",
       "      <td>{'CWE-400'}</td>\n",
       "      <td>CairoSVG is a Python (pypi) package. CairoSVG ...</td>\n",
       "      <td>MEDIUM</td>\n",
       "      <td>8.6</td>\n",
       "      <td>2.9</td>\n",
       "      <td>2021-01-06T17:15Z</td>\n",
       "      <td>2021-01-13T15:43Z</td>\n",
       "      <td>{'https://pypi.org/project/CairoSVG/', 'https:...</td>\n",
       "      <td>{'https://github.com/Kozea/CairoSVG/commit/cfc...</td>\n",
       "      <td>{'https://github.com/Kozea/CairoSVG/commit/cfc...</td>\n",
       "    </tr>\n",
       "  </tbody>\n",
       "</table>\n",
       "</div>"
      ],
      "text/plain": [
       "           cve_id  year         cwes  \\\n",
       "0  CVE-2021-20230  2021  {'CWE-295'}   \n",
       "1  CVE-2021-20271  2021  {'CWE-345'}   \n",
       "2  CVE-2021-21234  2021   {'CWE-22'}   \n",
       "3  CVE-2021-21235  2021  {'CWE-400'}   \n",
       "4  CVE-2021-21236  2021  {'CWE-400'}   \n",
       "\n",
       "                                         description severity  exploitability  \\\n",
       "0  A flaw was found in stunnel before 5.57, where...   MEDIUM            10.0   \n",
       "1  A flaw was found in RPM's signature check func...   MEDIUM             4.9   \n",
       "2  spring-boot-actuator-logview in a library that...   MEDIUM             8.0   \n",
       "3  kamadak-exif is an exif parsing library writte...   MEDIUM             8.6   \n",
       "4  CairoSVG is a Python (pypi) package. CairoSVG ...   MEDIUM             8.6   \n",
       "\n",
       "   impact     published_date last_modified_date  \\\n",
       "0     2.9  2021-02-23T17:15Z  2021-05-26T10:15Z   \n",
       "1     6.4  2021-03-26T17:15Z  2021-12-10T19:50Z   \n",
       "2     2.9  2021-01-05T18:15Z  2021-01-11T14:41Z   \n",
       "3     2.9  2021-01-06T02:15Z  2021-01-08T19:23Z   \n",
       "4     2.9  2021-01-06T17:15Z  2021-01-13T15:43Z   \n",
       "\n",
       "                                                refs  \\\n",
       "0  {'https://github.com/mtrojnar/stunnel/commit/e...   \n",
       "1  {'https://security.gentoo.org/glsa/202107-43',...   \n",
       "2  {'https://github.com/lukashinsch/spring-boot-a...   \n",
       "3  {'https://crates.io/crates/kamadak-exif', 'htt...   \n",
       "4  {'https://pypi.org/project/CairoSVG/', 'https:...   \n",
       "\n",
       "                                           code_refs  \\\n",
       "0  {'https://github.com/mtrojnar/stunnel/commit/e...   \n",
       "1  {'https://github.com/rpm-software-management/r...   \n",
       "2  {'https://github.com/lukashinsch/spring-boot-a...   \n",
       "3  {'https://github.com/kamadak/exif-rs/commit/f2...   \n",
       "4  {'https://github.com/Kozea/CairoSVG/commit/cfc...   \n",
       "\n",
       "                                             commits  \n",
       "0  {'https://github.com/mtrojnar/stunnel/commit/e...  \n",
       "1  {'https://github.com/rpm-software-management/r...  \n",
       "2  {'https://github.com/lukashinsch/spring-boot-a...  \n",
       "3  {'https://github.com/kamadak/exif-rs/commit/f2...  \n",
       "4  {'https://github.com/Kozea/CairoSVG/commit/cfc...  "
      ]
     },
     "execution_count": 4,
     "metadata": {},
     "output_type": "execute_result"
    }
   ],
   "source": [
    "df = pd.read_csv('../github-patches/nvd.csv')\n",
    "df.head()"
   ]
  },
  {
   "cell_type": "code",
   "execution_count": 17,
   "metadata": {},
   "outputs": [
    {
     "name": "stdout",
     "output_type": "stream",
     "text": [
      "number of vulnerabilities: 7316\n"
     ]
    }
   ],
   "source": [
    "print('number of vulnerabilities:', len(df))"
   ]
  },
  {
   "cell_type": "code",
   "execution_count": 18,
   "metadata": {},
   "outputs": [],
   "source": [
    "nvd_commits = set()\n",
    "for idx, row in df.iterrows():\n",
    "    commits = eval(row['commits'])\n",
    "    nvd_commits = set.union(nvd_commits, commits)"
   ]
  },
  {
   "cell_type": "markdown",
   "metadata": {},
   "source": [
    "### Source: OSV"
   ]
  },
  {
   "cell_type": "code",
   "execution_count": 5,
   "metadata": {},
   "outputs": [
    {
     "data": {
      "text/html": [
       "<div>\n",
       "<style scoped>\n",
       "    .dataframe tbody tr th:only-of-type {\n",
       "        vertical-align: middle;\n",
       "    }\n",
       "\n",
       "    .dataframe tbody tr th {\n",
       "        vertical-align: top;\n",
       "    }\n",
       "\n",
       "    .dataframe thead th {\n",
       "        text-align: right;\n",
       "    }\n",
       "</style>\n",
       "<table border=\"1\" class=\"dataframe\">\n",
       "  <thead>\n",
       "    <tr style=\"text-align: right;\">\n",
       "      <th></th>\n",
       "      <th>ecosystem</th>\n",
       "      <th>vuln_id</th>\n",
       "      <th>summary</th>\n",
       "      <th>details</th>\n",
       "      <th>aliases</th>\n",
       "      <th>modified_date</th>\n",
       "      <th>published_date</th>\n",
       "      <th>severity</th>\n",
       "      <th>score</th>\n",
       "      <th>cwe_id</th>\n",
       "      <th>refs</th>\n",
       "      <th>introduced</th>\n",
       "      <th>code_refs</th>\n",
       "      <th>commits</th>\n",
       "    </tr>\n",
       "  </thead>\n",
       "  <tbody>\n",
       "    <tr>\n",
       "      <th>0</th>\n",
       "      <td>GHSA</td>\n",
       "      <td>GHSA-p6j9-7xhc-rhwp</td>\n",
       "      <td>Hostname spoofing via backslashes in URL</td>\n",
       "      <td>NaN</td>\n",
       "      <td>NaN</td>\n",
       "      <td>2021-04-05T20:33:00Z</td>\n",
       "      <td>2021-03-01T20:03:53Z</td>\n",
       "      <td>NaN</td>\n",
       "      <td>NaN</td>\n",
       "      <td>NaN</td>\n",
       "      <td>{'https://github.com/medialize/URI.js/security...</td>\n",
       "      <td>NaN</td>\n",
       "      <td>{'https://github.com/medialize/URI.js/commit/a...</td>\n",
       "      <td>{'https://github.com/medialize/URI.js/commit/a...</td>\n",
       "    </tr>\n",
       "    <tr>\n",
       "      <th>1</th>\n",
       "      <td>GHSA</td>\n",
       "      <td>GHSA-mq5c-prh3-3f3h</td>\n",
       "      <td>Invalid validation in `QuantizeAndDequantizeV2`</td>\n",
       "      <td>NaN</td>\n",
       "      <td>NaN</td>\n",
       "      <td>2021-05-21T14:28:32Z</td>\n",
       "      <td>2021-05-21T14:28:32Z</td>\n",
       "      <td>NaN</td>\n",
       "      <td>NaN</td>\n",
       "      <td>NaN</td>\n",
       "      <td>{'https://github.com/tensorflow/tensorflow/com...</td>\n",
       "      <td>NaN</td>\n",
       "      <td>{'https://github.com/tensorflow/tensorflow/com...</td>\n",
       "      <td>{'https://github.com/tensorflow/tensorflow/com...</td>\n",
       "    </tr>\n",
       "    <tr>\n",
       "      <th>2</th>\n",
       "      <td>GHSA</td>\n",
       "      <td>GHSA-9v62-24cr-58cx</td>\n",
       "      <td>Denial of Service in node-sass</td>\n",
       "      <td>NaN</td>\n",
       "      <td>NaN</td>\n",
       "      <td>2021-09-28T16:08:18Z</td>\n",
       "      <td>2020-09-11T21:12:39Z</td>\n",
       "      <td>NaN</td>\n",
       "      <td>NaN</td>\n",
       "      <td>NaN</td>\n",
       "      <td>{'https://github.com/sass/node-sass/commit/338...</td>\n",
       "      <td>NaN</td>\n",
       "      <td>{'https://github.com/sass/node-sass/commit/338...</td>\n",
       "      <td>{'https://github.com/sass/node-sass/commit/338...</td>\n",
       "    </tr>\n",
       "    <tr>\n",
       "      <th>3</th>\n",
       "      <td>GHSA</td>\n",
       "      <td>GHSA-h6wf-hvwc-fm77</td>\n",
       "      <td>Out-of-bounds write</td>\n",
       "      <td>NaN</td>\n",
       "      <td>NaN</td>\n",
       "      <td>2021-03-29T21:00:02Z</td>\n",
       "      <td>2021-03-29T21:00:02Z</td>\n",
       "      <td>NaN</td>\n",
       "      <td>NaN</td>\n",
       "      <td>NaN</td>\n",
       "      <td>{'https://nvd.nist.gov/vuln/detail/CVE-2019-09...</td>\n",
       "      <td>NaN</td>\n",
       "      <td>{'https://github.com/chakra-core/ChakraCore/co...</td>\n",
       "      <td>{'https://github.com/chakra-core/ChakraCore/co...</td>\n",
       "    </tr>\n",
       "    <tr>\n",
       "      <th>4</th>\n",
       "      <td>GHSA</td>\n",
       "      <td>GHSA-5c8j-xr24-2665</td>\n",
       "      <td>Potential Command Injection in printer</td>\n",
       "      <td>NaN</td>\n",
       "      <td>NaN</td>\n",
       "      <td>2021-09-01T21:34:21Z</td>\n",
       "      <td>2017-11-28T22:44:52Z</td>\n",
       "      <td>NaN</td>\n",
       "      <td>NaN</td>\n",
       "      <td>NaN</td>\n",
       "      <td>{'https://github.com/advisories/GHSA-5c8j-xr24...</td>\n",
       "      <td>NaN</td>\n",
       "      <td>{'https://github.com/tojocky/node-printer/comm...</td>\n",
       "      <td>{'https://github.com/tojocky/node-printer/comm...</td>\n",
       "    </tr>\n",
       "  </tbody>\n",
       "</table>\n",
       "</div>"
      ],
      "text/plain": [
       "  ecosystem              vuln_id  \\\n",
       "0      GHSA  GHSA-p6j9-7xhc-rhwp   \n",
       "1      GHSA  GHSA-mq5c-prh3-3f3h   \n",
       "2      GHSA  GHSA-9v62-24cr-58cx   \n",
       "3      GHSA  GHSA-h6wf-hvwc-fm77   \n",
       "4      GHSA  GHSA-5c8j-xr24-2665   \n",
       "\n",
       "                                           summary details aliases  \\\n",
       "0         Hostname spoofing via backslashes in URL     NaN     NaN   \n",
       "1  Invalid validation in `QuantizeAndDequantizeV2`     NaN     NaN   \n",
       "2                   Denial of Service in node-sass     NaN     NaN   \n",
       "3                              Out-of-bounds write     NaN     NaN   \n",
       "4           Potential Command Injection in printer     NaN     NaN   \n",
       "\n",
       "          modified_date        published_date  severity  score cwe_id  \\\n",
       "0  2021-04-05T20:33:00Z  2021-03-01T20:03:53Z       NaN    NaN    NaN   \n",
       "1  2021-05-21T14:28:32Z  2021-05-21T14:28:32Z       NaN    NaN    NaN   \n",
       "2  2021-09-28T16:08:18Z  2020-09-11T21:12:39Z       NaN    NaN    NaN   \n",
       "3  2021-03-29T21:00:02Z  2021-03-29T21:00:02Z       NaN    NaN    NaN   \n",
       "4  2021-09-01T21:34:21Z  2017-11-28T22:44:52Z       NaN    NaN    NaN   \n",
       "\n",
       "                                                refs introduced  \\\n",
       "0  {'https://github.com/medialize/URI.js/security...        NaN   \n",
       "1  {'https://github.com/tensorflow/tensorflow/com...        NaN   \n",
       "2  {'https://github.com/sass/node-sass/commit/338...        NaN   \n",
       "3  {'https://nvd.nist.gov/vuln/detail/CVE-2019-09...        NaN   \n",
       "4  {'https://github.com/advisories/GHSA-5c8j-xr24...        NaN   \n",
       "\n",
       "                                           code_refs  \\\n",
       "0  {'https://github.com/medialize/URI.js/commit/a...   \n",
       "1  {'https://github.com/tensorflow/tensorflow/com...   \n",
       "2  {'https://github.com/sass/node-sass/commit/338...   \n",
       "3  {'https://github.com/chakra-core/ChakraCore/co...   \n",
       "4  {'https://github.com/tojocky/node-printer/comm...   \n",
       "\n",
       "                                             commits  \n",
       "0  {'https://github.com/medialize/URI.js/commit/a...  \n",
       "1  {'https://github.com/tensorflow/tensorflow/com...  \n",
       "2  {'https://github.com/sass/node-sass/commit/338...  \n",
       "3  {'https://github.com/chakra-core/ChakraCore/co...  \n",
       "4  {'https://github.com/tojocky/node-printer/comm...  "
      ]
     },
     "execution_count": 5,
     "metadata": {},
     "output_type": "execute_result"
    }
   ],
   "source": [
    "df = pd.read_csv('../github-patches/osv.csv')\n",
    "df.head()"
   ]
  },
  {
   "cell_type": "code",
   "execution_count": 20,
   "metadata": {},
   "outputs": [
    {
     "name": "stdout",
     "output_type": "stream",
     "text": [
      "number of vulnerabilities: 4125\n"
     ]
    }
   ],
   "source": [
    "print('number of vulnerabilities:', len(df))"
   ]
  },
  {
   "cell_type": "code",
   "execution_count": 21,
   "metadata": {},
   "outputs": [],
   "source": [
    "osv_commits = set()\n",
    "for idx, row in df.iterrows():\n",
    "    commits = eval(row['commits'])\n",
    "    osv_commits = set.union(osv_commits, commits)"
   ]
  },
  {
   "cell_type": "markdown",
   "metadata": {},
   "source": [
    "### Source: CVE Details"
   ]
  },
  {
   "cell_type": "code",
   "execution_count": 6,
   "metadata": {},
   "outputs": [
    {
     "data": {
      "text/html": [
       "<div>\n",
       "<style scoped>\n",
       "    .dataframe tbody tr th:only-of-type {\n",
       "        vertical-align: middle;\n",
       "    }\n",
       "\n",
       "    .dataframe tbody tr th {\n",
       "        vertical-align: top;\n",
       "    }\n",
       "\n",
       "    .dataframe thead th {\n",
       "        text-align: right;\n",
       "    }\n",
       "</style>\n",
       "<table border=\"1\" class=\"dataframe\">\n",
       "  <thead>\n",
       "    <tr style=\"text-align: right;\">\n",
       "      <th></th>\n",
       "      <th>cve_id</th>\n",
       "      <th>cve_href</th>\n",
       "      <th>cwe_id</th>\n",
       "      <th>vuln_type</th>\n",
       "      <th>publish_date</th>\n",
       "      <th>update_date</th>\n",
       "      <th>score</th>\n",
       "      <th>acces_level</th>\n",
       "      <th>access</th>\n",
       "      <th>complexity</th>\n",
       "      <th>authentication</th>\n",
       "      <th>confidentiality</th>\n",
       "      <th>integrity</th>\n",
       "      <th>availability</th>\n",
       "      <th>summary</th>\n",
       "      <th>refs</th>\n",
       "      <th>code_refs</th>\n",
       "      <th>commits</th>\n",
       "    </tr>\n",
       "  </thead>\n",
       "  <tbody>\n",
       "    <tr>\n",
       "      <th>0</th>\n",
       "      <td>CVE-1999-0731</td>\n",
       "      <td>https://www.cvedetails.com/cve/CVE-1999-0731/</td>\n",
       "      <td>NaN</td>\n",
       "      <td>NaN</td>\n",
       "      <td>1999-06-23</td>\n",
       "      <td>2021-01-20</td>\n",
       "      <td>4.6</td>\n",
       "      <td>None</td>\n",
       "      <td>Local</td>\n",
       "      <td>Low</td>\n",
       "      <td>Not required</td>\n",
       "      <td>Partial</td>\n",
       "      <td>Partial</td>\n",
       "      <td>Partial</td>\n",
       "      <td>The KDE klock program allows local users to un...</td>\n",
       "      <td>{'http://www.securityfocus.com/bid/489', 'http...</td>\n",
       "      <td>{'https://github.com/KDE/kde1-kdebase/commit/0...</td>\n",
       "      <td>{'https://github.com/KDE/kde1-kdebase/commit/0...</td>\n",
       "    </tr>\n",
       "  </tbody>\n",
       "</table>\n",
       "</div>"
      ],
      "text/plain": [
       "          cve_id                                       cve_href  cwe_id  \\\n",
       "0  CVE-1999-0731  https://www.cvedetails.com/cve/CVE-1999-0731/     NaN   \n",
       "\n",
       "   vuln_type publish_date update_date  score acces_level access complexity  \\\n",
       "0        NaN   1999-06-23  2021-01-20    4.6        None  Local        Low   \n",
       "\n",
       "  authentication confidentiality integrity availability  \\\n",
       "0   Not required         Partial   Partial      Partial   \n",
       "\n",
       "                                             summary  \\\n",
       "0  The KDE klock program allows local users to un...   \n",
       "\n",
       "                                                refs  \\\n",
       "0  {'http://www.securityfocus.com/bid/489', 'http...   \n",
       "\n",
       "                                           code_refs  \\\n",
       "0  {'https://github.com/KDE/kde1-kdebase/commit/0...   \n",
       "\n",
       "                                             commits  \n",
       "0  {'https://github.com/KDE/kde1-kdebase/commit/0...  "
      ]
     },
     "execution_count": 6,
     "metadata": {},
     "output_type": "execute_result"
    }
   ],
   "source": [
    "df = pd.read_csv('../github-patches/cve_details.csv')\n",
    "df.head()"
   ]
  },
  {
   "cell_type": "code",
   "execution_count": 23,
   "metadata": {},
   "outputs": [
    {
     "name": "stdout",
     "output_type": "stream",
     "text": [
      "number of vulnerabilities: 6500\n",
      "number of CVEs: 6500 (= number of vulnerabilities)\n",
      "number of vulnerability classes (CWEs): 181\n"
     ]
    }
   ],
   "source": [
    "print('number of vulnerabilities:', len(df))\n",
    "print('number of CVEs:', len(df['cve_id'].unique()), '(= number of vulnerabilities)')\n",
    "print('number of vulnerability classes (CWEs):', len(df['cwe_id'].unique()))"
   ]
  },
  {
   "cell_type": "code",
   "execution_count": 24,
   "metadata": {},
   "outputs": [],
   "source": [
    "cvedet_commits = set()\n",
    "for idx, row in df.iterrows():\n",
    "    commits = eval(row['code_refs'])\n",
    "    cvedet_commits = set.union(cvedet_commits, commits)"
   ]
  },
  {
   "cell_type": "markdown",
   "metadata": {},
   "source": [
    "### Venn: Datasets"
   ]
  },
  {
   "cell_type": "code",
   "execution_count": 25,
   "metadata": {},
   "outputs": [
    {
     "data": {
      "text/plain": [
       "<matplotlib.legend.Legend at 0x166af78e0>"
      ]
     },
     "execution_count": 25,
     "metadata": {},
     "output_type": "execute_result"
    },
    {
     "data": {
      "image/png": "[encoded data removed]",
      "text/plain": [
       "<Figure size 1152x864 with 1 Axes>"
      ]
     },
     "metadata": {},
     "output_type": "display_data"
    }
   ],
   "source": [
    "labels = ['SECBENCH', 'DEVIGN', 'SAP', 'BIG-VUL']\n",
    "\n",
    "sets = {\n",
    "    labels[0]: secbench_commits,\n",
    "    labels[1]: devign_commits,\n",
    "    labels[2]: sap_commits,\n",
    "    labels[3]: bigvul_commits\n",
    "}\n",
    "\n",
    "fig, ax = plt.subplots(1, figsize=(16,12))\n",
    "venn(sets, ax=ax)\n",
    "plt.legend(labels, ncol=3)"
   ]
  },
  {
   "cell_type": "markdown",
   "metadata": {},
   "source": [
    "### Venn: Source"
   ]
  },
  {
   "cell_type": "code",
   "execution_count": 26,
   "metadata": {},
   "outputs": [
    {
     "data": {
      "text/plain": [
       "<matplotlib.legend.Legend at 0x166de8910>"
      ]
     },
     "execution_count": 26,
     "metadata": {},
     "output_type": "execute_result"
    },
    {
     "data": {
      "image/png": "[encoded data removed]",
      "text/plain": [
       "<Figure size 1152x864 with 1 Axes>"
      ]
     },
     "metadata": {},
     "output_type": "display_data"
    }
   ],
   "source": [
    "labels = ['NVD', 'OSV', 'CVE-DETAILS']\n",
    "\n",
    "sets = {\n",
    "    labels[0]: nvd_commits,\n",
    "    labels[1]: osv_commits,\n",
    "    labels[2]: cvedet_commits\n",
    "}\n",
    "\n",
    "fig, ax = plt.subplots(1, figsize=(16,12))\n",
    "venn(sets, ax=ax)\n",
    "plt.legend(labels, ncol=3)"
   ]
  },
  {
   "cell_type": "markdown",
   "metadata": {},
   "source": [
    "### Intersection of the different research datasets and sources"
   ]
  },
  {
   "cell_type": "code",
   "execution_count": 46,
   "metadata": {},
   "outputs": [
    {
     "data": {
      "text/plain": [
       "Text(0.5, 0.98, 'Intersection of the different datasets')"
      ]
     },
     "execution_count": 46,
     "metadata": {},
     "output_type": "execute_result"
    },
    {
     "data": {
      "image/png": "[encoded data removed]",
      "text/plain": [
       "<Figure size 640x416 with 4 Axes>"
      ]
     },
     "metadata": {
      "needs_background": "light"
     },
     "output_type": "display_data"
    }
   ],
   "source": [
    "import upsetplot\n",
    "\n",
    "labels = ['SECBENCH', 'DEVIGN', 'SAP', 'BIG-VUL', 'NVD', 'OSV', 'CVE-DETAILS']\n",
    "\n",
    "sets = {\n",
    "    labels[0]: secbench_commits,\n",
    "    labels[1]: devign_commits,\n",
    "    labels[2]: sap_commits,\n",
    "    labels[3]: bigvul_commits,\n",
    "    labels[4]: nvd_commits,\n",
    "    labels[5]: osv_commits,\n",
    "    labels[6]: cvedet_commits,\n",
    "}\n",
    "\n",
    "upset_data_sub = upsetplot.from_contents(sets)\n",
    "upsetplot.plot(upset_data_sub, show_counts=True,facecolor=\"darkblue\", shading_color=\"lightgray\")\n",
    "plt.suptitle('Intersection of the different datasets')"
   ]
  },
  {
   "cell_type": "markdown",
   "metadata": {},
   "source": [
    "- `DEVIGN`, `SAP` and `SECBENCH` only have unique cases. There is no overlap with any of the other datasets.\n",
    "- The rest of the research datasets some overlapping between them."
   ]
  }
 ],
 "metadata": {
  "kernelspec": {
   "display_name": "Python 3",
   "language": "python",
   "name": "python3"
  },
  "language_info": {
   "codemirror_mode": {
    "name": "ipython",
    "version": 3
   },
   "file_extension": ".py",
   "mimetype": "text/x-python",
   "name": "python",
   "nbconvert_exporter": "python",
   "pygments_lexer": "ipython3",
   "version": "3.10.2"
  }
 },
 "nbformat": 4,
 "nbformat_minor": 4
}
